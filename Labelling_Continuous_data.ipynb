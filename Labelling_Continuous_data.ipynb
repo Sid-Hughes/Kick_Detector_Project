{
 "cells": [
  {
   "cell_type": "markdown",
   "source": [
    "# Loop over continuous data, add rows to a dataframe \n",
    "# For each row add label in label column depending on corresponding label to timestamp\n"
   ],
   "metadata": {
    "collapsed": false
   },
   "id": "fe8f69760b2215ee"
  },
  {
   "cell_type": "code",
   "outputs": [],
   "source": [],
   "metadata": {
    "collapsed": false
   },
   "id": "b22cc86a0ef7e2c7"
  }
 ],
 "metadata": {
  "kernelspec": {
   "display_name": "Python 3",
   "language": "python",
   "name": "python3"
  },
  "language_info": {
   "codemirror_mode": {
    "name": "ipython",
    "version": 2
   },
   "file_extension": ".py",
   "mimetype": "text/x-python",
   "name": "python",
   "nbconvert_exporter": "python",
   "pygments_lexer": "ipython2",
   "version": "2.7.6"
  }
 },
 "nbformat": 4,
 "nbformat_minor": 5
}
