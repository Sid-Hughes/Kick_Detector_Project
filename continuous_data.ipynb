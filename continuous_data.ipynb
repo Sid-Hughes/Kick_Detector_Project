{
 "cells": [
  {
   "cell_type": "code",
   "execution_count": 1,
   "id": "initial_id",
   "metadata": {
    "collapsed": true,
    "ExecuteTime": {
     "end_time": "2024-05-15T01:27:31.038350Z",
     "start_time": "2024-05-15T01:27:31.034615Z"
    }
   },
   "outputs": [],
   "source": [
    "import matplotlib.pyplot as plt\n",
    "import numpy as np\n",
    "import pandas as pd\n",
    "import seaborn as sns\n",
    "import warnings\n",
    "\n",
    "warnings.filterwarnings(\"ignore\", \"use_inf_as_na\")"
   ]
  },
  {
   "cell_type": "code",
   "outputs": [
    {
     "data": {
      "text/plain": "            time        ax        ay        az        am        rx        ry  \\\n0       0.000005 -0.967285  0.018799  0.232910  0.993857  3.448486  3.631592   \n1       0.342938 -0.970947  0.046387  0.266113  1.005671  3.997803  2.105713   \n2       0.362382 -0.965332  0.064941  0.248047  0.988421  2.716064  1.892090   \n3       0.381505 -0.943604  0.056396  0.244385  0.984302  3.997803  2.777100   \n4       0.400617 -0.972900  0.059082  0.247803  1.016512  5.950928  1.922607   \n...          ...       ...       ...       ...       ...       ...       ...   \n8703  150.371564 -0.753662  0.292480  0.605225  1.020959  0.122070  2.288818   \n8704  150.388793 -0.785400  0.310547  0.597656  1.012895  0.762939  0.823975   \n8705  150.406081 -0.741943  0.302979  0.584229  0.990466  2.532959  2.044678   \n8706  150.423288 -0.738525  0.321045  0.584961  0.999407  2.105713  2.471924   \n8707  150.440651 -0.753662  0.319092  0.573730  0.975444  0.000000  1.617432   \n\n            rz        rm  \n0    -0.671387  5.211005  \n1    -0.457764  4.283998  \n2     0.061035  3.610631  \n3    -0.457764  5.022066  \n4    -1.098633  6.351470  \n...        ...       ...  \n8703 -1.159668  1.905333  \n8704 -7.781982  1.385444  \n8705 -0.305176  3.671000  \n8706 -0.518799  2.759606  \n8707 -0.488281  1.708439  \n\n[8708 rows x 9 columns]",
      "text/html": "<div>\n<style scoped>\n    .dataframe tbody tr th:only-of-type {\n        vertical-align: middle;\n    }\n\n    .dataframe tbody tr th {\n        vertical-align: top;\n    }\n\n    .dataframe thead th {\n        text-align: right;\n    }\n</style>\n<table border=\"1\" class=\"dataframe\">\n  <thead>\n    <tr style=\"text-align: right;\">\n      <th></th>\n      <th>time</th>\n      <th>ax</th>\n      <th>ay</th>\n      <th>az</th>\n      <th>am</th>\n      <th>rx</th>\n      <th>ry</th>\n      <th>rz</th>\n      <th>rm</th>\n    </tr>\n  </thead>\n  <tbody>\n    <tr>\n      <th>0</th>\n      <td>0.000005</td>\n      <td>-0.967285</td>\n      <td>0.018799</td>\n      <td>0.232910</td>\n      <td>0.993857</td>\n      <td>3.448486</td>\n      <td>3.631592</td>\n      <td>-0.671387</td>\n      <td>5.211005</td>\n    </tr>\n    <tr>\n      <th>1</th>\n      <td>0.342938</td>\n      <td>-0.970947</td>\n      <td>0.046387</td>\n      <td>0.266113</td>\n      <td>1.005671</td>\n      <td>3.997803</td>\n      <td>2.105713</td>\n      <td>-0.457764</td>\n      <td>4.283998</td>\n    </tr>\n    <tr>\n      <th>2</th>\n      <td>0.362382</td>\n      <td>-0.965332</td>\n      <td>0.064941</td>\n      <td>0.248047</td>\n      <td>0.988421</td>\n      <td>2.716064</td>\n      <td>1.892090</td>\n      <td>0.061035</td>\n      <td>3.610631</td>\n    </tr>\n    <tr>\n      <th>3</th>\n      <td>0.381505</td>\n      <td>-0.943604</td>\n      <td>0.056396</td>\n      <td>0.244385</td>\n      <td>0.984302</td>\n      <td>3.997803</td>\n      <td>2.777100</td>\n      <td>-0.457764</td>\n      <td>5.022066</td>\n    </tr>\n    <tr>\n      <th>4</th>\n      <td>0.400617</td>\n      <td>-0.972900</td>\n      <td>0.059082</td>\n      <td>0.247803</td>\n      <td>1.016512</td>\n      <td>5.950928</td>\n      <td>1.922607</td>\n      <td>-1.098633</td>\n      <td>6.351470</td>\n    </tr>\n    <tr>\n      <th>...</th>\n      <td>...</td>\n      <td>...</td>\n      <td>...</td>\n      <td>...</td>\n      <td>...</td>\n      <td>...</td>\n      <td>...</td>\n      <td>...</td>\n      <td>...</td>\n    </tr>\n    <tr>\n      <th>8703</th>\n      <td>150.371564</td>\n      <td>-0.753662</td>\n      <td>0.292480</td>\n      <td>0.605225</td>\n      <td>1.020959</td>\n      <td>0.122070</td>\n      <td>2.288818</td>\n      <td>-1.159668</td>\n      <td>1.905333</td>\n    </tr>\n    <tr>\n      <th>8704</th>\n      <td>150.388793</td>\n      <td>-0.785400</td>\n      <td>0.310547</td>\n      <td>0.597656</td>\n      <td>1.012895</td>\n      <td>0.762939</td>\n      <td>0.823975</td>\n      <td>-7.781982</td>\n      <td>1.385444</td>\n    </tr>\n    <tr>\n      <th>8705</th>\n      <td>150.406081</td>\n      <td>-0.741943</td>\n      <td>0.302979</td>\n      <td>0.584229</td>\n      <td>0.990466</td>\n      <td>2.532959</td>\n      <td>2.044678</td>\n      <td>-0.305176</td>\n      <td>3.671000</td>\n    </tr>\n    <tr>\n      <th>8706</th>\n      <td>150.423288</td>\n      <td>-0.738525</td>\n      <td>0.321045</td>\n      <td>0.584961</td>\n      <td>0.999407</td>\n      <td>2.105713</td>\n      <td>2.471924</td>\n      <td>-0.518799</td>\n      <td>2.759606</td>\n    </tr>\n    <tr>\n      <th>8707</th>\n      <td>150.440651</td>\n      <td>-0.753662</td>\n      <td>0.319092</td>\n      <td>0.573730</td>\n      <td>0.975444</td>\n      <td>0.000000</td>\n      <td>1.617432</td>\n      <td>-0.488281</td>\n      <td>1.708439</td>\n    </tr>\n  </tbody>\n</table>\n<p>8708 rows × 9 columns</p>\n</div>"
     },
     "metadata": {},
     "output_type": "display_data"
    }
   ],
   "source": [
    "df_kicks1 = pd.read_csv(\"continuous_kick_data_I.csv\")\n",
    "display(df_kicks1)"
   ],
   "metadata": {
    "collapsed": false,
    "ExecuteTime": {
     "end_time": "2024-05-15T01:27:31.088551Z",
     "start_time": "2024-05-15T01:27:31.042366Z"
    }
   },
   "id": "c8eae331bab39b5d",
   "execution_count": 2
  },
  {
   "cell_type": "markdown",
   "source": [
    "# Times of kicks (kicks 1)\n",
    "- front - 9.34\n",
    "- mid - 16.58\n",
    "- front - 26.01\n",
    "- low - 36.39\n",
    "- mid - 46.69\n",
    "- low - 56.86\n",
    "- front - 70.94\n",
    "- mid - 81.33\n",
    "- front - 90.93\n",
    "- front - 104.22\n",
    "- low - 112.57\n",
    "- mid - 121.36\n",
    "- low - 129.13\n",
    "- mid - 136.82\n",
    "- low - 144.61"
   ],
   "metadata": {
    "collapsed": false
   },
   "id": "7e7126f80147595a"
  },
  {
   "cell_type": "code",
   "outputs": [
    {
     "data": {
      "text/plain": "            time        ax        ay        az        am        rx        ry  \\\n0       0.000005 -0.967285  0.018799  0.232910  0.993857  3.448486  3.631592   \n1       0.342938 -0.970947  0.046387  0.266113  1.005671  3.997803  2.105713   \n2       0.362382 -0.965332  0.064941  0.248047  0.988421  2.716064  1.892090   \n3       0.381505 -0.943604  0.056396  0.244385  0.984302  3.997803  2.777100   \n4       0.400617 -0.972900  0.059082  0.247803  1.016512  5.950928  1.922607   \n...          ...       ...       ...       ...       ...       ...       ...   \n8703  150.371564 -0.753662  0.292480  0.605225  1.020959  0.122070  2.288818   \n8704  150.388793 -0.785400  0.310547  0.597656  1.012895  0.762939  0.823975   \n8705  150.406081 -0.741943  0.302979  0.584229  0.990466  2.532959  2.044678   \n8706  150.423288 -0.738525  0.321045  0.584961  0.999407  2.105713  2.471924   \n8707  150.440651 -0.753662  0.319092  0.573730  0.975444  0.000000  1.617432   \n\n            rz        rm  movement  \n0    -0.671387  5.211005         0  \n1    -0.457764  4.283998         0  \n2     0.061035  3.610631         0  \n3    -0.457764  5.022066         0  \n4    -1.098633  6.351470         0  \n...        ...       ...       ...  \n8703 -1.159668  1.905333         0  \n8704 -7.781982  1.385444         0  \n8705 -0.305176  3.671000         0  \n8706 -0.518799  2.759606         0  \n8707 -0.488281  1.708439         0  \n\n[8708 rows x 10 columns]",
      "text/html": "<div>\n<style scoped>\n    .dataframe tbody tr th:only-of-type {\n        vertical-align: middle;\n    }\n\n    .dataframe tbody tr th {\n        vertical-align: top;\n    }\n\n    .dataframe thead th {\n        text-align: right;\n    }\n</style>\n<table border=\"1\" class=\"dataframe\">\n  <thead>\n    <tr style=\"text-align: right;\">\n      <th></th>\n      <th>time</th>\n      <th>ax</th>\n      <th>ay</th>\n      <th>az</th>\n      <th>am</th>\n      <th>rx</th>\n      <th>ry</th>\n      <th>rz</th>\n      <th>rm</th>\n      <th>movement</th>\n    </tr>\n  </thead>\n  <tbody>\n    <tr>\n      <th>0</th>\n      <td>0.000005</td>\n      <td>-0.967285</td>\n      <td>0.018799</td>\n      <td>0.232910</td>\n      <td>0.993857</td>\n      <td>3.448486</td>\n      <td>3.631592</td>\n      <td>-0.671387</td>\n      <td>5.211005</td>\n      <td>0</td>\n    </tr>\n    <tr>\n      <th>1</th>\n      <td>0.342938</td>\n      <td>-0.970947</td>\n      <td>0.046387</td>\n      <td>0.266113</td>\n      <td>1.005671</td>\n      <td>3.997803</td>\n      <td>2.105713</td>\n      <td>-0.457764</td>\n      <td>4.283998</td>\n      <td>0</td>\n    </tr>\n    <tr>\n      <th>2</th>\n      <td>0.362382</td>\n      <td>-0.965332</td>\n      <td>0.064941</td>\n      <td>0.248047</td>\n      <td>0.988421</td>\n      <td>2.716064</td>\n      <td>1.892090</td>\n      <td>0.061035</td>\n      <td>3.610631</td>\n      <td>0</td>\n    </tr>\n    <tr>\n      <th>3</th>\n      <td>0.381505</td>\n      <td>-0.943604</td>\n      <td>0.056396</td>\n      <td>0.244385</td>\n      <td>0.984302</td>\n      <td>3.997803</td>\n      <td>2.777100</td>\n      <td>-0.457764</td>\n      <td>5.022066</td>\n      <td>0</td>\n    </tr>\n    <tr>\n      <th>4</th>\n      <td>0.400617</td>\n      <td>-0.972900</td>\n      <td>0.059082</td>\n      <td>0.247803</td>\n      <td>1.016512</td>\n      <td>5.950928</td>\n      <td>1.922607</td>\n      <td>-1.098633</td>\n      <td>6.351470</td>\n      <td>0</td>\n    </tr>\n    <tr>\n      <th>...</th>\n      <td>...</td>\n      <td>...</td>\n      <td>...</td>\n      <td>...</td>\n      <td>...</td>\n      <td>...</td>\n      <td>...</td>\n      <td>...</td>\n      <td>...</td>\n      <td>...</td>\n    </tr>\n    <tr>\n      <th>8703</th>\n      <td>150.371564</td>\n      <td>-0.753662</td>\n      <td>0.292480</td>\n      <td>0.605225</td>\n      <td>1.020959</td>\n      <td>0.122070</td>\n      <td>2.288818</td>\n      <td>-1.159668</td>\n      <td>1.905333</td>\n      <td>0</td>\n    </tr>\n    <tr>\n      <th>8704</th>\n      <td>150.388793</td>\n      <td>-0.785400</td>\n      <td>0.310547</td>\n      <td>0.597656</td>\n      <td>1.012895</td>\n      <td>0.762939</td>\n      <td>0.823975</td>\n      <td>-7.781982</td>\n      <td>1.385444</td>\n      <td>0</td>\n    </tr>\n    <tr>\n      <th>8705</th>\n      <td>150.406081</td>\n      <td>-0.741943</td>\n      <td>0.302979</td>\n      <td>0.584229</td>\n      <td>0.990466</td>\n      <td>2.532959</td>\n      <td>2.044678</td>\n      <td>-0.305176</td>\n      <td>3.671000</td>\n      <td>0</td>\n    </tr>\n    <tr>\n      <th>8706</th>\n      <td>150.423288</td>\n      <td>-0.738525</td>\n      <td>0.321045</td>\n      <td>0.584961</td>\n      <td>0.999407</td>\n      <td>2.105713</td>\n      <td>2.471924</td>\n      <td>-0.518799</td>\n      <td>2.759606</td>\n      <td>0</td>\n    </tr>\n    <tr>\n      <th>8707</th>\n      <td>150.440651</td>\n      <td>-0.753662</td>\n      <td>0.319092</td>\n      <td>0.573730</td>\n      <td>0.975444</td>\n      <td>0.000000</td>\n      <td>1.617432</td>\n      <td>-0.488281</td>\n      <td>1.708439</td>\n      <td>0</td>\n    </tr>\n  </tbody>\n</table>\n<p>8708 rows × 10 columns</p>\n</div>"
     },
     "metadata": {},
     "output_type": "display_data"
    }
   ],
   "source": [
    "# Label Continuous Kick data 1\n",
    "# Label 3 seconds either side of each time stamp as the kick\n",
    "# Label data outside of these ranges as \"no kick\"\n",
    "\n",
    "\n",
    "# Creating a movement column and initialise to 0\n",
    "df_kicks1[\"movement\"] = 0\n",
    "# Creating a label mapping\n",
    "label_mapping = {0: \"no kick\", 1: \"front kick\", 2: \"low roundhouse kick\", 3: \"mid roundhouse kick\"}\n",
    "\n",
    "time_mapping = {9.34: 1, 16.58: 3, 26.01: 1, 36.39: 2, 46.69: 3, 56.86: 2, 70.94: 1, 81.33: 3, 90.93: 1, 104.22: 1, 112.57: 2, 121.36: 3, 129.13: 2, 136.82: 3, 144.61: 2}\n",
    "\n",
    "# Looping through df and adding labels to data \n",
    "kick_times = list(time_mapping.keys())\n",
    "\n",
    "# for row in df_kicks1.iterrows():\n",
    "#     # min_time = row[1][\"time\"] - 3\n",
    "#     # max_time = row[1][\"time\"] + 3\n",
    "#     for time in kick_times:\n",
    "#         min_time = time - 3\n",
    "#         max_time = time + 3\n",
    "#         if min_time <= row[1][\"time\"] <= max_time:\n",
    "#             # print(row[1][\"time\"])\n",
    "#             # print(f\"min time {min_time}\")\n",
    "#             # print(f\"max time {max_time}\")\n",
    "#             # row[1][\"movement\"] = time_mapping[time]\n",
    "#             df_kicks1.at[row[0], \"movement\"] = time_mapping[time]\n",
    "#             print(row[0])\n",
    "#             # break\n",
    "#         # break\n",
    "#     # break\n",
    "for row in df_kicks1.iterrows():\n",
    "    for time in kick_times:\n",
    "        min_time = time - 4\n",
    "        max_time = time\n",
    "        if min_time <= row[1][\"time\"] <= max_time:\n",
    "            df_kicks1.at[row[0], \"movement\"] = time_mapping[time]\n",
    "\n",
    "display(df_kicks1)\n"
   ],
   "metadata": {
    "collapsed": false,
    "ExecuteTime": {
     "end_time": "2024-05-15T01:29:39.284292Z",
     "start_time": "2024-05-15T01:29:38.771143Z"
    }
   },
   "id": "748c1ccd799cd0c",
   "execution_count": 3
  },
  {
   "cell_type": "code",
   "outputs": [
    {
     "data": {
      "text/plain": "array([0, 1, 3, 2], dtype=int64)"
     },
     "execution_count": 4,
     "metadata": {},
     "output_type": "execute_result"
    }
   ],
   "source": [
    "df_kicks1[\"movement\"].unique()"
   ],
   "metadata": {
    "collapsed": false,
    "ExecuteTime": {
     "end_time": "2024-05-15T01:29:43.995764Z",
     "start_time": "2024-05-15T01:29:43.987720Z"
    }
   },
   "id": "b2b790bb94e9daa0",
   "execution_count": 4
  },
  {
   "cell_type": "code",
   "outputs": [
    {
     "data": {
      "text/plain": "array([[[-1.9678997e+01],\n        [ 3.2135372e+00],\n        [ 1.4245423e+00],\n        ...,\n        [-1.9439915e-01],\n        [ 3.9092288e-03],\n        [-3.5519786e-02]]], dtype=float32)"
     },
     "execution_count": 34,
     "metadata": {},
     "output_type": "execute_result"
    }
   ],
   "source": [
    "np_array = np.load(\"input_df.npy\")\n",
    "np_array"
   ],
   "metadata": {
    "collapsed": false,
    "ExecuteTime": {
     "end_time": "2024-05-10T12:34:56.940583Z",
     "start_time": "2024-05-10T12:34:56.932224Z"
    }
   },
   "id": "1f31cf76b3f65d26",
   "execution_count": 34
  },
  {
   "cell_type": "code",
   "outputs": [],
   "source": [
    "df_kicks1.to_csv(\"continuous_kicks_I_labelled2.csv\", index=False)"
   ],
   "metadata": {
    "collapsed": false,
    "ExecuteTime": {
     "end_time": "2024-05-15T01:29:54.716832Z",
     "start_time": "2024-05-15T01:29:54.642777Z"
    }
   },
   "id": "c0050da26e1b9a69",
   "execution_count": 5
  },
  {
   "cell_type": "markdown",
   "source": [
    "# Times of kicks (kicks 2)\n",
    "- 'low' - 8.28\n",
    "- 'front' - 17.61\n",
    "- 'mid', - 26.36\n",
    "- 'mid', - 41.75\n",
    "- 'low', - 51.34\n",
    "- 'front' - 59.94\n",
    "- 'low', - 71.39\n",
    "- 'front', - 80.7\n",
    "- 'front', - 88.34\n",
    "- 'low', - 99.97\n",
    "- 'low', - 108.47\n",
    "- 'mid', - 118.17\n",
    "- 'front', - 128.42\n",
    "- 'mid', - 137.01\n",
    "- 'mid' - 145.38"
   ],
   "metadata": {
    "collapsed": false
   },
   "id": "de8ea6034f958e0b"
  },
  {
   "cell_type": "code",
   "outputs": [
    {
     "data": {
      "text/plain": "            time        ax        ay        az        am        rx        ry  \\\n0       0.000006 -0.973877 -0.020752  0.231201  1.004236 -1.525879 -7.812500   \n1       0.345907 -0.941650 -0.011475  0.268311  0.986162 -1.800537  0.823975   \n2       0.365329 -0.935791 -0.006104  0.284668  0.974538 -5.035400  1.037598   \n3       0.384484 -0.927490 -0.019287  0.308350  0.981418 -4.943848  1.983643   \n4       0.403690 -0.949707 -0.042725  0.292480  0.999021 -3.295898  1.586914   \n...          ...       ...       ...       ...       ...       ...       ...   \n8769  151.534676 -0.944824  0.117920  0.332764  1.004489  1.190186  2.227783   \n8770  151.551873 -0.924805  0.123291  0.321045  0.985200  1.037598  2.929688   \n8771  151.569103 -0.966553  0.130615  0.325928  1.005844 -0.152588  2.807617   \n8772  151.586268 -0.929443  0.122803  0.329834  0.994202 -0.213623  2.746582   \n8773  151.603488 -0.925781  0.109131  0.340576  0.997759  0.213623  2.380371   \n\n            rz        rm  movement  \n0    -0.152588  1.267858         0  \n1     0.427246  3.030935         0  \n2     1.007080  5.403594         0  \n3     1.007080  4.848359         0  \n4     0.091553  3.084541         0  \n...        ...       ...       ...  \n8769 -0.854492  3.135301         0  \n8770 -0.488281  3.049926         0  \n8771 -0.274658  2.513952         0  \n8772 -0.549316  2.730599         0  \n8773 -0.579834  2.271459         0  \n\n[8774 rows x 10 columns]",
      "text/html": "<div>\n<style scoped>\n    .dataframe tbody tr th:only-of-type {\n        vertical-align: middle;\n    }\n\n    .dataframe tbody tr th {\n        vertical-align: top;\n    }\n\n    .dataframe thead th {\n        text-align: right;\n    }\n</style>\n<table border=\"1\" class=\"dataframe\">\n  <thead>\n    <tr style=\"text-align: right;\">\n      <th></th>\n      <th>time</th>\n      <th>ax</th>\n      <th>ay</th>\n      <th>az</th>\n      <th>am</th>\n      <th>rx</th>\n      <th>ry</th>\n      <th>rz</th>\n      <th>rm</th>\n      <th>movement</th>\n    </tr>\n  </thead>\n  <tbody>\n    <tr>\n      <th>0</th>\n      <td>0.000006</td>\n      <td>-0.973877</td>\n      <td>-0.020752</td>\n      <td>0.231201</td>\n      <td>1.004236</td>\n      <td>-1.525879</td>\n      <td>-7.812500</td>\n      <td>-0.152588</td>\n      <td>1.267858</td>\n      <td>0</td>\n    </tr>\n    <tr>\n      <th>1</th>\n      <td>0.345907</td>\n      <td>-0.941650</td>\n      <td>-0.011475</td>\n      <td>0.268311</td>\n      <td>0.986162</td>\n      <td>-1.800537</td>\n      <td>0.823975</td>\n      <td>0.427246</td>\n      <td>3.030935</td>\n      <td>0</td>\n    </tr>\n    <tr>\n      <th>2</th>\n      <td>0.365329</td>\n      <td>-0.935791</td>\n      <td>-0.006104</td>\n      <td>0.284668</td>\n      <td>0.974538</td>\n      <td>-5.035400</td>\n      <td>1.037598</td>\n      <td>1.007080</td>\n      <td>5.403594</td>\n      <td>0</td>\n    </tr>\n    <tr>\n      <th>3</th>\n      <td>0.384484</td>\n      <td>-0.927490</td>\n      <td>-0.019287</td>\n      <td>0.308350</td>\n      <td>0.981418</td>\n      <td>-4.943848</td>\n      <td>1.983643</td>\n      <td>1.007080</td>\n      <td>4.848359</td>\n      <td>0</td>\n    </tr>\n    <tr>\n      <th>4</th>\n      <td>0.403690</td>\n      <td>-0.949707</td>\n      <td>-0.042725</td>\n      <td>0.292480</td>\n      <td>0.999021</td>\n      <td>-3.295898</td>\n      <td>1.586914</td>\n      <td>0.091553</td>\n      <td>3.084541</td>\n      <td>0</td>\n    </tr>\n    <tr>\n      <th>...</th>\n      <td>...</td>\n      <td>...</td>\n      <td>...</td>\n      <td>...</td>\n      <td>...</td>\n      <td>...</td>\n      <td>...</td>\n      <td>...</td>\n      <td>...</td>\n      <td>...</td>\n    </tr>\n    <tr>\n      <th>8769</th>\n      <td>151.534676</td>\n      <td>-0.944824</td>\n      <td>0.117920</td>\n      <td>0.332764</td>\n      <td>1.004489</td>\n      <td>1.190186</td>\n      <td>2.227783</td>\n      <td>-0.854492</td>\n      <td>3.135301</td>\n      <td>0</td>\n    </tr>\n    <tr>\n      <th>8770</th>\n      <td>151.551873</td>\n      <td>-0.924805</td>\n      <td>0.123291</td>\n      <td>0.321045</td>\n      <td>0.985200</td>\n      <td>1.037598</td>\n      <td>2.929688</td>\n      <td>-0.488281</td>\n      <td>3.049926</td>\n      <td>0</td>\n    </tr>\n    <tr>\n      <th>8771</th>\n      <td>151.569103</td>\n      <td>-0.966553</td>\n      <td>0.130615</td>\n      <td>0.325928</td>\n      <td>1.005844</td>\n      <td>-0.152588</td>\n      <td>2.807617</td>\n      <td>-0.274658</td>\n      <td>2.513952</td>\n      <td>0</td>\n    </tr>\n    <tr>\n      <th>8772</th>\n      <td>151.586268</td>\n      <td>-0.929443</td>\n      <td>0.122803</td>\n      <td>0.329834</td>\n      <td>0.994202</td>\n      <td>-0.213623</td>\n      <td>2.746582</td>\n      <td>-0.549316</td>\n      <td>2.730599</td>\n      <td>0</td>\n    </tr>\n    <tr>\n      <th>8773</th>\n      <td>151.603488</td>\n      <td>-0.925781</td>\n      <td>0.109131</td>\n      <td>0.340576</td>\n      <td>0.997759</td>\n      <td>0.213623</td>\n      <td>2.380371</td>\n      <td>-0.579834</td>\n      <td>2.271459</td>\n      <td>0</td>\n    </tr>\n  </tbody>\n</table>\n<p>8774 rows × 10 columns</p>\n</div>"
     },
     "metadata": {},
     "output_type": "display_data"
    }
   ],
   "source": [
    "df_kicks2 = pd.read_csv(\"continuous_kick_data_II.csv\")\n",
    "\n",
    "\n",
    "# Creating a movement column and initialise to 0\n",
    "df_kicks2[\"movement\"] = 0\n",
    "# Creating a label mapping\n",
    "label_mapping = {0: \"no kick\", 1: \"front kick\", 2: \"low roundhouse kick\", 3: \"mid roundhouse kick\"}\n",
    "\n",
    "time_mapping = {8.28: 2, 17.61: 1, 26.36: 3, 41.75: 3, 51.34: 2, 59.94: 1, 71.39: 2, 80.7: 1, 88.34: 1, 99.97: 2, 108.47: 2, 118.17: 3, 128.42: 1, 137.01: 3, 145.38: 3}\n",
    "\n",
    "# Looping through df and adding labels to data \n",
    "kick_times = list(time_mapping.keys())\n",
    "\n",
    "# for row in df_kicks2.iterrows():\n",
    "#     for time in kick_times:\n",
    "#         min_time = time - 3\n",
    "#         max_time = time + 3\n",
    "#         if min_time <= row[1][\"time\"] <= max_time:\n",
    "#             df_kicks2.at[row[0], \"movement\"] = time_mapping[time]\n",
    "for row in df_kicks2.iterrows():\n",
    "    for time in kick_times:\n",
    "        min_time = time - 4\n",
    "        max_time = time\n",
    "        if min_time <= row[1][\"time\"] <= max_time:\n",
    "            df_kicks2.at[row[0], \"movement\"] = time_mapping[time]\n",
    "display(df_kicks2)\n"
   ],
   "metadata": {
    "collapsed": false,
    "ExecuteTime": {
     "end_time": "2024-05-15T01:30:22.311111Z",
     "start_time": "2024-05-15T01:30:21.797709Z"
    }
   },
   "id": "55d4b55c4542e227",
   "execution_count": 6
  },
  {
   "cell_type": "code",
   "outputs": [
    {
     "data": {
      "text/plain": "array([0, 2, 1, 3], dtype=int64)"
     },
     "execution_count": 7,
     "metadata": {},
     "output_type": "execute_result"
    }
   ],
   "source": [
    "df_kicks2[\"movement\"].unique()"
   ],
   "metadata": {
    "collapsed": false,
    "ExecuteTime": {
     "end_time": "2024-05-15T01:30:25.142539Z",
     "start_time": "2024-05-15T01:30:25.135457Z"
    }
   },
   "id": "d176912bc7d0ec89",
   "execution_count": 7
  },
  {
   "cell_type": "code",
   "outputs": [],
   "source": [
    "df_kicks2.to_csv(\"continuous_kicks_II_labelled2.csv\", index=False)"
   ],
   "metadata": {
    "collapsed": false,
    "ExecuteTime": {
     "end_time": "2024-05-15T01:30:31.503554Z",
     "start_time": "2024-05-15T01:30:31.426475Z"
    }
   },
   "id": "aa6423de8f487e8a",
   "execution_count": 8
  },
  {
   "cell_type": "markdown",
   "source": [
    "# Times of kicks (kicks 3)\n",
    "- low - 9.45\n",
    "- mid - 18.45\n",
    "- front - 26.71\n",
    "- low - 35.48\n",
    "- low - 44.57\n",
    "- front - 52.92\n",
    "- low - 62.6\n",
    "- front - 73.03\n",
    "- mid - 82.49\n",
    "- front - 90.85\n",
    "- mid - 100.97\n",
    "- mid - 111.91\n",
    "- mid - 126.76 !!!! Possibly need to push this back as I pressed lap late\n",
    "- low - 137.39\n",
    "- front - 147.51"
   ],
   "metadata": {
    "collapsed": false
   },
   "id": "f3360d37f5b27409"
  },
  {
   "cell_type": "code",
   "outputs": [
    {
     "data": {
      "text/plain": "            time        ax        ay        az        am        rx        ry  \\\n0       0.000006 -0.993408  0.027588  0.069336  0.997258 -0.854492  1.922607   \n1       0.345716 -0.986084  0.015137  0.071533  0.987100 -0.915527  2.593994   \n2       0.364990 -0.982178  0.031006  0.068604  0.989475  0.976562  2.197266   \n3       0.384142 -0.979248  0.015625  0.037354  0.985420  1.342773  2.777100   \n4       0.403385 -0.978271  0.037354  0.069092  0.985169  0.732422  2.990723   \n...          ...       ...       ...       ...       ...       ...       ...   \n9112  157.276149 -0.977295  0.080566  0.147217  0.988574  0.122070  2.014160   \n9113  157.293291 -0.972900  0.076416  0.152344  0.991101  0.549316  2.319336   \n9114  157.310528 -0.988037  0.072998  0.143311  1.001748  0.732422  1.586914   \n9115  157.327724 -0.974609  0.077637  0.144287  0.985746  1.068115  1.831055   \n9116  157.344908 -0.978027  0.082275  0.152100  0.997381  1.342773  2.105713   \n\n            rz        rm  movement  \n0     0.244141  2.449404         0  \n1     0.244141  2.798480         0  \n2    -0.305176  2.653450         0  \n3    -0.885010  3.157500         0  \n4    -0.396729  3.216530         0  \n...        ...       ...       ...  \n9112  0.732422  2.390522         0  \n9113  0.579834  2.573086         0  \n9114  0.427246  1.997911         0  \n9115  0.274658  2.309880         0  \n9116  0.183105  2.408376         0  \n\n[9117 rows x 10 columns]",
      "text/html": "<div>\n<style scoped>\n    .dataframe tbody tr th:only-of-type {\n        vertical-align: middle;\n    }\n\n    .dataframe tbody tr th {\n        vertical-align: top;\n    }\n\n    .dataframe thead th {\n        text-align: right;\n    }\n</style>\n<table border=\"1\" class=\"dataframe\">\n  <thead>\n    <tr style=\"text-align: right;\">\n      <th></th>\n      <th>time</th>\n      <th>ax</th>\n      <th>ay</th>\n      <th>az</th>\n      <th>am</th>\n      <th>rx</th>\n      <th>ry</th>\n      <th>rz</th>\n      <th>rm</th>\n      <th>movement</th>\n    </tr>\n  </thead>\n  <tbody>\n    <tr>\n      <th>0</th>\n      <td>0.000006</td>\n      <td>-0.993408</td>\n      <td>0.027588</td>\n      <td>0.069336</td>\n      <td>0.997258</td>\n      <td>-0.854492</td>\n      <td>1.922607</td>\n      <td>0.244141</td>\n      <td>2.449404</td>\n      <td>0</td>\n    </tr>\n    <tr>\n      <th>1</th>\n      <td>0.345716</td>\n      <td>-0.986084</td>\n      <td>0.015137</td>\n      <td>0.071533</td>\n      <td>0.987100</td>\n      <td>-0.915527</td>\n      <td>2.593994</td>\n      <td>0.244141</td>\n      <td>2.798480</td>\n      <td>0</td>\n    </tr>\n    <tr>\n      <th>2</th>\n      <td>0.364990</td>\n      <td>-0.982178</td>\n      <td>0.031006</td>\n      <td>0.068604</td>\n      <td>0.989475</td>\n      <td>0.976562</td>\n      <td>2.197266</td>\n      <td>-0.305176</td>\n      <td>2.653450</td>\n      <td>0</td>\n    </tr>\n    <tr>\n      <th>3</th>\n      <td>0.384142</td>\n      <td>-0.979248</td>\n      <td>0.015625</td>\n      <td>0.037354</td>\n      <td>0.985420</td>\n      <td>1.342773</td>\n      <td>2.777100</td>\n      <td>-0.885010</td>\n      <td>3.157500</td>\n      <td>0</td>\n    </tr>\n    <tr>\n      <th>4</th>\n      <td>0.403385</td>\n      <td>-0.978271</td>\n      <td>0.037354</td>\n      <td>0.069092</td>\n      <td>0.985169</td>\n      <td>0.732422</td>\n      <td>2.990723</td>\n      <td>-0.396729</td>\n      <td>3.216530</td>\n      <td>0</td>\n    </tr>\n    <tr>\n      <th>...</th>\n      <td>...</td>\n      <td>...</td>\n      <td>...</td>\n      <td>...</td>\n      <td>...</td>\n      <td>...</td>\n      <td>...</td>\n      <td>...</td>\n      <td>...</td>\n      <td>...</td>\n    </tr>\n    <tr>\n      <th>9112</th>\n      <td>157.276149</td>\n      <td>-0.977295</td>\n      <td>0.080566</td>\n      <td>0.147217</td>\n      <td>0.988574</td>\n      <td>0.122070</td>\n      <td>2.014160</td>\n      <td>0.732422</td>\n      <td>2.390522</td>\n      <td>0</td>\n    </tr>\n    <tr>\n      <th>9113</th>\n      <td>157.293291</td>\n      <td>-0.972900</td>\n      <td>0.076416</td>\n      <td>0.152344</td>\n      <td>0.991101</td>\n      <td>0.549316</td>\n      <td>2.319336</td>\n      <td>0.579834</td>\n      <td>2.573086</td>\n      <td>0</td>\n    </tr>\n    <tr>\n      <th>9114</th>\n      <td>157.310528</td>\n      <td>-0.988037</td>\n      <td>0.072998</td>\n      <td>0.143311</td>\n      <td>1.001748</td>\n      <td>0.732422</td>\n      <td>1.586914</td>\n      <td>0.427246</td>\n      <td>1.997911</td>\n      <td>0</td>\n    </tr>\n    <tr>\n      <th>9115</th>\n      <td>157.327724</td>\n      <td>-0.974609</td>\n      <td>0.077637</td>\n      <td>0.144287</td>\n      <td>0.985746</td>\n      <td>1.068115</td>\n      <td>1.831055</td>\n      <td>0.274658</td>\n      <td>2.309880</td>\n      <td>0</td>\n    </tr>\n    <tr>\n      <th>9116</th>\n      <td>157.344908</td>\n      <td>-0.978027</td>\n      <td>0.082275</td>\n      <td>0.152100</td>\n      <td>0.997381</td>\n      <td>1.342773</td>\n      <td>2.105713</td>\n      <td>0.183105</td>\n      <td>2.408376</td>\n      <td>0</td>\n    </tr>\n  </tbody>\n</table>\n<p>9117 rows × 10 columns</p>\n</div>"
     },
     "metadata": {},
     "output_type": "display_data"
    }
   ],
   "source": [
    "df_kicks3 = pd.read_csv(\"continuous_kick_data_III.csv\")\n",
    "\n",
    "\n",
    "# Creating a movement column and initialise to 0\n",
    "df_kicks3[\"movement\"] = 0\n",
    "# Creating a label mapping\n",
    "label_mapping = {0: \"no kick\", 1: \"front kick\", 2: \"low roundhouse kick\", 3: \"mid roundhouse kick\"}\n",
    "\n",
    "time_mapping = {9.45: 2, 18.45: 3, 26.71: 1, 35.48: 2, 44.57: 2, 52.92: 1, 62.6: 2, 73.03: 1, 82.49: 3, 90.85: 1, 100.97: 3, 111.91: 3, 126.76: 3, 137.39: 2, 147.51: 1}\n",
    "\n",
    "# Looping through df and adding labels to data \n",
    "kick_times = list(time_mapping.keys())\n",
    "\n",
    "# for row in df_kicks3.iterrows():\n",
    "#     for time in kick_times:\n",
    "#         min_time = time - 3\n",
    "#         max_time = time + 3\n",
    "#         if min_time <= row[1][\"time\"] <= max_time:\n",
    "#             df_kicks3.at[row[0], \"movement\"] = time_mapping[time]\n",
    "for row in df_kicks3.iterrows():\n",
    "    for time in kick_times:\n",
    "        min_time = time - 4\n",
    "        max_time = time\n",
    "        if min_time <= row[1][\"time\"] <= max_time:\n",
    "            df_kicks3.at[row[0], \"movement\"] = time_mapping[time]\n",
    "display(df_kicks3)\n"
   ],
   "metadata": {
    "collapsed": false,
    "ExecuteTime": {
     "end_time": "2024-05-15T01:31:05.830019Z",
     "start_time": "2024-05-15T01:31:05.337428Z"
    }
   },
   "id": "14ab4131c0f94c7d",
   "execution_count": 9
  },
  {
   "cell_type": "code",
   "outputs": [
    {
     "data": {
      "text/plain": "movement\n0    5634\n2    1161\n3    1161\n1    1161\nName: count, dtype: int64"
     },
     "execution_count": 10,
     "metadata": {},
     "output_type": "execute_result"
    }
   ],
   "source": [
    "df_kicks3[\"movement\"].value_counts()"
   ],
   "metadata": {
    "collapsed": false,
    "ExecuteTime": {
     "end_time": "2024-05-15T01:31:09.107136Z",
     "start_time": "2024-05-15T01:31:09.093489Z"
    }
   },
   "id": "f3d9846080a8b328",
   "execution_count": 10
  },
  {
   "cell_type": "code",
   "outputs": [],
   "source": [
    "df_kicks3.to_csv(\"continuous_kicks_III_labelled2.csv\", index=False)"
   ],
   "metadata": {
    "collapsed": false,
    "ExecuteTime": {
     "end_time": "2024-05-15T01:31:21.369608Z",
     "start_time": "2024-05-15T01:31:21.295409Z"
    }
   },
   "id": "b86042d21bea7926",
   "execution_count": 11
  },
  {
   "cell_type": "markdown",
   "source": [
    "# Times of kicks (testing)\n",
    "- front - 9.55\n",
    "- front - 18.2\n",
    "- front - 28.81\n",
    "- front - 39.41\n",
    "- front - 47.29\n",
    "- mid - 63.51\n",
    "- mid - 71.43\n",
    "- mid - 81.79\n",
    "- mid - 92.42\n",
    "- mid - 102.43\n",
    "- low - 113.55\n",
    "- low - 121.4\n",
    "- low - 126.95\n",
    "- low - 134.73\n",
    "- low - 147.97"
   ],
   "metadata": {
    "collapsed": false
   },
   "id": "51e62034b35fa558"
  },
  {
   "cell_type": "code",
   "outputs": [
    {
     "data": {
      "text/plain": "            time        ax        ay        az        am        rx        ry  \\\n0       0.000006 -0.989990  0.024902  0.080078  0.996284 -1.770020  1.647949   \n1       0.347414 -0.979492  0.037842  0.077637  0.993011 -2.685547  1.770020   \n2       0.366726 -0.993896  0.026855  0.078125  0.989820 -3.662109  1.068115   \n3       0.385210 -0.977539  0.006592  0.080811  0.977003 -2.838135  1.770020   \n4       0.402500 -0.984131 -0.002686  0.086914  0.988363 -1.770020  1.525879   \n...          ...       ...       ...       ...       ...       ...       ...   \n8987  155.322249 -0.956299  0.160400  0.160889  0.982999 -1.892090  1.861572   \n8988  155.339453 -0.963135  0.184814  0.168213  0.993196 -3.417969  2.288818   \n8989  155.356724 -0.968994  0.137451  0.184082  0.992604 -3.051758  1.464844   \n8990  155.373898 -0.966309  0.125244  0.174561  0.996825 -2.319336  1.373291   \n8991  155.391228 -0.962891  0.119385  0.163818  0.976950 -1.525879  1.678467   \n\n            rz        rm  movement  \n0    -0.366211  2.781791         0  \n1     0.396729  2.996633         0  \n2     0.152588  3.817870         0  \n3     0.488281  3.122352         0  \n4    -0.091553  2.082811         0  \n...        ...       ...       ...  \n8987  0.915527  3.181009         0  \n8988  1.190186  4.181131         0  \n8989  1.464844  3.619261         0  \n8990  1.373291  2.667627         0  \n8991  0.793457  2.522089         0  \n\n[8992 rows x 10 columns]",
      "text/html": "<div>\n<style scoped>\n    .dataframe tbody tr th:only-of-type {\n        vertical-align: middle;\n    }\n\n    .dataframe tbody tr th {\n        vertical-align: top;\n    }\n\n    .dataframe thead th {\n        text-align: right;\n    }\n</style>\n<table border=\"1\" class=\"dataframe\">\n  <thead>\n    <tr style=\"text-align: right;\">\n      <th></th>\n      <th>time</th>\n      <th>ax</th>\n      <th>ay</th>\n      <th>az</th>\n      <th>am</th>\n      <th>rx</th>\n      <th>ry</th>\n      <th>rz</th>\n      <th>rm</th>\n      <th>movement</th>\n    </tr>\n  </thead>\n  <tbody>\n    <tr>\n      <th>0</th>\n      <td>0.000006</td>\n      <td>-0.989990</td>\n      <td>0.024902</td>\n      <td>0.080078</td>\n      <td>0.996284</td>\n      <td>-1.770020</td>\n      <td>1.647949</td>\n      <td>-0.366211</td>\n      <td>2.781791</td>\n      <td>0</td>\n    </tr>\n    <tr>\n      <th>1</th>\n      <td>0.347414</td>\n      <td>-0.979492</td>\n      <td>0.037842</td>\n      <td>0.077637</td>\n      <td>0.993011</td>\n      <td>-2.685547</td>\n      <td>1.770020</td>\n      <td>0.396729</td>\n      <td>2.996633</td>\n      <td>0</td>\n    </tr>\n    <tr>\n      <th>2</th>\n      <td>0.366726</td>\n      <td>-0.993896</td>\n      <td>0.026855</td>\n      <td>0.078125</td>\n      <td>0.989820</td>\n      <td>-3.662109</td>\n      <td>1.068115</td>\n      <td>0.152588</td>\n      <td>3.817870</td>\n      <td>0</td>\n    </tr>\n    <tr>\n      <th>3</th>\n      <td>0.385210</td>\n      <td>-0.977539</td>\n      <td>0.006592</td>\n      <td>0.080811</td>\n      <td>0.977003</td>\n      <td>-2.838135</td>\n      <td>1.770020</td>\n      <td>0.488281</td>\n      <td>3.122352</td>\n      <td>0</td>\n    </tr>\n    <tr>\n      <th>4</th>\n      <td>0.402500</td>\n      <td>-0.984131</td>\n      <td>-0.002686</td>\n      <td>0.086914</td>\n      <td>0.988363</td>\n      <td>-1.770020</td>\n      <td>1.525879</td>\n      <td>-0.091553</td>\n      <td>2.082811</td>\n      <td>0</td>\n    </tr>\n    <tr>\n      <th>...</th>\n      <td>...</td>\n      <td>...</td>\n      <td>...</td>\n      <td>...</td>\n      <td>...</td>\n      <td>...</td>\n      <td>...</td>\n      <td>...</td>\n      <td>...</td>\n      <td>...</td>\n    </tr>\n    <tr>\n      <th>8987</th>\n      <td>155.322249</td>\n      <td>-0.956299</td>\n      <td>0.160400</td>\n      <td>0.160889</td>\n      <td>0.982999</td>\n      <td>-1.892090</td>\n      <td>1.861572</td>\n      <td>0.915527</td>\n      <td>3.181009</td>\n      <td>0</td>\n    </tr>\n    <tr>\n      <th>8988</th>\n      <td>155.339453</td>\n      <td>-0.963135</td>\n      <td>0.184814</td>\n      <td>0.168213</td>\n      <td>0.993196</td>\n      <td>-3.417969</td>\n      <td>2.288818</td>\n      <td>1.190186</td>\n      <td>4.181131</td>\n      <td>0</td>\n    </tr>\n    <tr>\n      <th>8989</th>\n      <td>155.356724</td>\n      <td>-0.968994</td>\n      <td>0.137451</td>\n      <td>0.184082</td>\n      <td>0.992604</td>\n      <td>-3.051758</td>\n      <td>1.464844</td>\n      <td>1.464844</td>\n      <td>3.619261</td>\n      <td>0</td>\n    </tr>\n    <tr>\n      <th>8990</th>\n      <td>155.373898</td>\n      <td>-0.966309</td>\n      <td>0.125244</td>\n      <td>0.174561</td>\n      <td>0.996825</td>\n      <td>-2.319336</td>\n      <td>1.373291</td>\n      <td>1.373291</td>\n      <td>2.667627</td>\n      <td>0</td>\n    </tr>\n    <tr>\n      <th>8991</th>\n      <td>155.391228</td>\n      <td>-0.962891</td>\n      <td>0.119385</td>\n      <td>0.163818</td>\n      <td>0.976950</td>\n      <td>-1.525879</td>\n      <td>1.678467</td>\n      <td>0.793457</td>\n      <td>2.522089</td>\n      <td>0</td>\n    </tr>\n  </tbody>\n</table>\n<p>8992 rows × 10 columns</p>\n</div>"
     },
     "metadata": {},
     "output_type": "display_data"
    }
   ],
   "source": [
    "df_kicks_test = pd.read_csv(\"continuous_kick_data_test.csv\")\n",
    "\n",
    "\n",
    "# Creating a movement column and initialise to 0\n",
    "df_kicks_test[\"movement\"] = 0\n",
    "# Creating a label mapping\n",
    "label_mapping = {0: \"no kick\", 1: \"front kick\", 2: \"low roundhouse kick\", 3: \"mid roundhouse kick\"}\n",
    "\n",
    "time_mapping = {9.55: 1, 18.2: 1, 28.81: 1, 39.41: 1, 47.29: 1, 63.51: 3, 71.43: 3, 81.79: 3, 92.42: 3, 102.43: 3, 113.55: 2, 121.4: 2, 126.95: 2, 134.73: 2, 147.97: 2}\n",
    "\n",
    "# Looping through df and adding labels to data \n",
    "kick_times = list(time_mapping.keys())\n",
    "\n",
    "for row in df_kicks_test.iterrows():\n",
    "    for time in kick_times:\n",
    "        min_time = time - 4\n",
    "        max_time = time\n",
    "        if min_time <= row[1][\"time\"] <= max_time:\n",
    "            df_kicks_test.at[row[0], \"movement\"] = time_mapping[time]\n",
    "\n",
    "display(df_kicks_test)"
   ],
   "metadata": {
    "collapsed": false,
    "ExecuteTime": {
     "end_time": "2024-05-15T01:31:42.877534Z",
     "start_time": "2024-05-15T01:31:42.363648Z"
    }
   },
   "id": "b133df8989126361",
   "execution_count": 12
  },
  {
   "cell_type": "code",
   "outputs": [
    {
     "data": {
      "text/plain": "movement\n0    5514\n1    1161\n2    1159\n3    1158\nName: count, dtype: int64"
     },
     "execution_count": 13,
     "metadata": {},
     "output_type": "execute_result"
    }
   ],
   "source": [
    "df_kicks_test[\"movement\"].value_counts()"
   ],
   "metadata": {
    "collapsed": false,
    "ExecuteTime": {
     "end_time": "2024-05-15T01:31:46.168422Z",
     "start_time": "2024-05-15T01:31:46.162643Z"
    }
   },
   "id": "f8e8538a59314db8",
   "execution_count": 13
  },
  {
   "cell_type": "code",
   "outputs": [],
   "source": [
    "df_kicks_test.to_csv(\"continuous_kicks_test_labelled2.csv\", index=False)"
   ],
   "metadata": {
    "collapsed": false,
    "ExecuteTime": {
     "end_time": "2024-05-15T01:31:53.760949Z",
     "start_time": "2024-05-15T01:31:53.689855Z"
    }
   },
   "id": "fba24c7472d39490",
   "execution_count": 14
  },
  {
   "cell_type": "code",
   "outputs": [
    {
     "name": "stdout",
     "output_type": "stream",
     "text": [
      "front\n",
      "front\n",
      "front\n",
      "front\n",
      "front\n",
      "mid\n",
      "mid\n",
      "mid\n",
      "mid\n",
      "mid\n",
      "low\n",
      "low\n",
      "low\n",
      "low\n",
      "low\n"
     ]
    }
   ],
   "source": [
    "import random\n",
    "kicks3 = ['front', 'front', 'front', 'front', 'front', 'mid', 'mid', 'mid', 'mid', 'mid', 'low', 'low', 'low', 'low', 'low']\n",
    "# random.shuffle(kicks3)\n",
    "# print(kicks3)\n",
    "for kick in kicks3:\n",
    "    print(kick)"
   ],
   "metadata": {
    "collapsed": false,
    "ExecuteTime": {
     "end_time": "2024-03-22T13:55:23.694597Z",
     "start_time": "2024-03-22T13:55:23.687379Z"
    }
   },
   "id": "72f75748dcde815c",
   "execution_count": 5
  }
 ],
 "metadata": {
  "kernelspec": {
   "display_name": "Python 3",
   "language": "python",
   "name": "python3"
  },
  "language_info": {
   "codemirror_mode": {
    "name": "ipython",
    "version": 2
   },
   "file_extension": ".py",
   "mimetype": "text/x-python",
   "name": "python",
   "nbconvert_exporter": "python",
   "pygments_lexer": "ipython2",
   "version": "2.7.6"
  }
 },
 "nbformat": 4,
 "nbformat_minor": 5
}
