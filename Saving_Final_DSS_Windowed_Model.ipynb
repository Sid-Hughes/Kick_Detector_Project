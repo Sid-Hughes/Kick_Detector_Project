{
  "cells": [
    {
      "cell_type": "code",
      "execution_count": null,
      "metadata": {
        "colab": {
          "base_uri": "https://localhost:8080/"
        },
        "id": "leBF7nIQoJW_",
        "outputId": "9a9c5202-c49b-47a7-cb86-567ca24434ab"
      },
      "outputs": [
        {
          "output_type": "stream",
          "name": "stdout",
          "text": [
            "Collecting scikeras\n",
            "  Downloading scikeras-0.13.0-py3-none-any.whl (26 kB)\n",
            "Collecting keras>=3.2.0 (from scikeras)\n",
            "  Downloading keras-3.3.3-py3-none-any.whl (1.1 MB)\n",
            "\u001b[2K     \u001b[90m━━━━━━━━━━━━━━━━━━━━━━━━━━━━━━━━━━━━━━━━\u001b[0m \u001b[32m1.1/1.1 MB\u001b[0m \u001b[31m8.9 MB/s\u001b[0m eta \u001b[36m0:00:00\u001b[0m\n",
            "\u001b[?25hCollecting scikit-learn>=1.4.2 (from scikeras)\n",
            "  Downloading scikit_learn-1.4.2-cp310-cp310-manylinux_2_17_x86_64.manylinux2014_x86_64.whl (12.1 MB)\n",
            "\u001b[2K     \u001b[90m━━━━━━━━━━━━━━━━━━━━━━━━━━━━━━━━━━━━━━━━\u001b[0m \u001b[32m12.1/12.1 MB\u001b[0m \u001b[31m43.2 MB/s\u001b[0m eta \u001b[36m0:00:00\u001b[0m\n",
            "\u001b[?25hRequirement already satisfied: absl-py in /usr/local/lib/python3.10/dist-packages (from keras>=3.2.0->scikeras) (1.4.0)\n",
            "Requirement already satisfied: numpy in /usr/local/lib/python3.10/dist-packages (from keras>=3.2.0->scikeras) (1.25.2)\n",
            "Requirement already satisfied: rich in /usr/local/lib/python3.10/dist-packages (from keras>=3.2.0->scikeras) (13.7.1)\n",
            "Collecting namex (from keras>=3.2.0->scikeras)\n",
            "  Downloading namex-0.0.8-py3-none-any.whl (5.8 kB)\n",
            "Requirement already satisfied: h5py in /usr/local/lib/python3.10/dist-packages (from keras>=3.2.0->scikeras) (3.9.0)\n",
            "Collecting optree (from keras>=3.2.0->scikeras)\n",
            "  Downloading optree-0.11.0-cp310-cp310-manylinux_2_17_x86_64.manylinux2014_x86_64.whl (311 kB)\n",
            "\u001b[2K     \u001b[90m━━━━━━━━━━━━━━━━━━━━━━━━━━━━━━━━━━━━━━━━\u001b[0m \u001b[32m311.2/311.2 kB\u001b[0m \u001b[31m20.8 MB/s\u001b[0m eta \u001b[36m0:00:00\u001b[0m\n",
            "\u001b[?25hRequirement already satisfied: ml-dtypes in /usr/local/lib/python3.10/dist-packages (from keras>=3.2.0->scikeras) (0.2.0)\n",
            "Requirement already satisfied: scipy>=1.6.0 in /usr/local/lib/python3.10/dist-packages (from scikit-learn>=1.4.2->scikeras) (1.11.4)\n",
            "Requirement already satisfied: joblib>=1.2.0 in /usr/local/lib/python3.10/dist-packages (from scikit-learn>=1.4.2->scikeras) (1.4.2)\n",
            "Requirement already satisfied: threadpoolctl>=2.0.0 in /usr/local/lib/python3.10/dist-packages (from scikit-learn>=1.4.2->scikeras) (3.5.0)\n",
            "Requirement already satisfied: typing-extensions>=4.0.0 in /usr/local/lib/python3.10/dist-packages (from optree->keras>=3.2.0->scikeras) (4.11.0)\n",
            "Requirement already satisfied: markdown-it-py>=2.2.0 in /usr/local/lib/python3.10/dist-packages (from rich->keras>=3.2.0->scikeras) (3.0.0)\n",
            "Requirement already satisfied: pygments<3.0.0,>=2.13.0 in /usr/local/lib/python3.10/dist-packages (from rich->keras>=3.2.0->scikeras) (2.16.1)\n",
            "Requirement already satisfied: mdurl~=0.1 in /usr/local/lib/python3.10/dist-packages (from markdown-it-py>=2.2.0->rich->keras>=3.2.0->scikeras) (0.1.2)\n",
            "Installing collected packages: namex, optree, scikit-learn, keras, scikeras\n",
            "  Attempting uninstall: scikit-learn\n",
            "    Found existing installation: scikit-learn 1.2.2\n",
            "    Uninstalling scikit-learn-1.2.2:\n",
            "      Successfully uninstalled scikit-learn-1.2.2\n",
            "  Attempting uninstall: keras\n",
            "    Found existing installation: keras 2.15.0\n",
            "    Uninstalling keras-2.15.0:\n",
            "      Successfully uninstalled keras-2.15.0\n",
            "\u001b[31mERROR: pip's dependency resolver does not currently take into account all the packages that are installed. This behaviour is the source of the following dependency conflicts.\n",
            "tensorflow 2.15.0 requires keras<2.16,>=2.15.0, but you have keras 3.3.3 which is incompatible.\u001b[0m\u001b[31m\n",
            "\u001b[0mSuccessfully installed keras-3.3.3 namex-0.0.8 optree-0.11.0 scikeras-0.13.0 scikit-learn-1.4.2\n"
          ]
        }
      ],
      "source": [
        "# %pip install scikeras"
      ]
    },
    {
      "cell_type": "code",
      "execution_count": 1,
      "metadata": {
        "colab": {
          "base_uri": "https://localhost:8080/"
        },
        "id": "IVwZjqfIbnfn",
        "outputId": "5981d4f0-c8ae-47ba-81a1-c5141aa1465e"
      },
      "outputs": [
        {
          "output_type": "stream",
          "name": "stdout",
          "text": [
            "Collecting tensorflow[and-cuda]==2.16.1\n",
            "  Downloading tensorflow-2.16.1-cp310-cp310-manylinux_2_17_x86_64.manylinux2014_x86_64.whl (589.8 MB)\n",
            "\u001b[2K     \u001b[90m━━━━━━━━━━━━━━━━━━━━━━━━━━━━━━━━━━━━━━━━\u001b[0m \u001b[32m589.8/589.8 MB\u001b[0m \u001b[31m2.5 MB/s\u001b[0m eta \u001b[36m0:00:00\u001b[0m\n",
            "\u001b[?25hRequirement already satisfied: absl-py>=1.0.0 in /usr/local/lib/python3.10/dist-packages (from tensorflow[and-cuda]==2.16.1) (1.4.0)\n",
            "Requirement already satisfied: astunparse>=1.6.0 in /usr/local/lib/python3.10/dist-packages (from tensorflow[and-cuda]==2.16.1) (1.6.3)\n",
            "Requirement already satisfied: flatbuffers>=23.5.26 in /usr/local/lib/python3.10/dist-packages (from tensorflow[and-cuda]==2.16.1) (24.3.25)\n",
            "Requirement already satisfied: gast!=0.5.0,!=0.5.1,!=0.5.2,>=0.2.1 in /usr/local/lib/python3.10/dist-packages (from tensorflow[and-cuda]==2.16.1) (0.5.4)\n",
            "Requirement already satisfied: google-pasta>=0.1.1 in /usr/local/lib/python3.10/dist-packages (from tensorflow[and-cuda]==2.16.1) (0.2.0)\n",
            "Collecting h5py>=3.10.0 (from tensorflow[and-cuda]==2.16.1)\n",
            "  Downloading h5py-3.11.0-cp310-cp310-manylinux_2_17_x86_64.manylinux2014_x86_64.whl (5.3 MB)\n",
            "\u001b[2K     \u001b[90m━━━━━━━━━━━━━━━━━━━━━━━━━━━━━━━━━━━━━━━━\u001b[0m \u001b[32m5.3/5.3 MB\u001b[0m \u001b[31m73.7 MB/s\u001b[0m eta \u001b[36m0:00:00\u001b[0m\n",
            "\u001b[?25hRequirement already satisfied: libclang>=13.0.0 in /usr/local/lib/python3.10/dist-packages (from tensorflow[and-cuda]==2.16.1) (18.1.1)\n",
            "Collecting ml-dtypes~=0.3.1 (from tensorflow[and-cuda]==2.16.1)\n",
            "  Downloading ml_dtypes-0.3.2-cp310-cp310-manylinux_2_17_x86_64.manylinux2014_x86_64.whl (2.2 MB)\n",
            "\u001b[2K     \u001b[90m━━━━━━━━━━━━━━━━━━━━━━━━━━━━━━━━━━━━━━━━\u001b[0m \u001b[32m2.2/2.2 MB\u001b[0m \u001b[31m81.4 MB/s\u001b[0m eta \u001b[36m0:00:00\u001b[0m\n",
            "\u001b[?25hRequirement already satisfied: opt-einsum>=2.3.2 in /usr/local/lib/python3.10/dist-packages (from tensorflow[and-cuda]==2.16.1) (3.3.0)\n",
            "Requirement already satisfied: packaging in /usr/local/lib/python3.10/dist-packages (from tensorflow[and-cuda]==2.16.1) (24.0)\n",
            "Requirement already satisfied: protobuf!=4.21.0,!=4.21.1,!=4.21.2,!=4.21.3,!=4.21.4,!=4.21.5,<5.0.0dev,>=3.20.3 in /usr/local/lib/python3.10/dist-packages (from tensorflow[and-cuda]==2.16.1) (3.20.3)\n",
            "Requirement already satisfied: requests<3,>=2.21.0 in /usr/local/lib/python3.10/dist-packages (from tensorflow[and-cuda]==2.16.1) (2.31.0)\n",
            "Requirement already satisfied: setuptools in /usr/local/lib/python3.10/dist-packages (from tensorflow[and-cuda]==2.16.1) (67.7.2)\n",
            "Requirement already satisfied: six>=1.12.0 in /usr/local/lib/python3.10/dist-packages (from tensorflow[and-cuda]==2.16.1) (1.16.0)\n",
            "Requirement already satisfied: termcolor>=1.1.0 in /usr/local/lib/python3.10/dist-packages (from tensorflow[and-cuda]==2.16.1) (2.4.0)\n",
            "Requirement already satisfied: typing-extensions>=3.6.6 in /usr/local/lib/python3.10/dist-packages (from tensorflow[and-cuda]==2.16.1) (4.11.0)\n",
            "Requirement already satisfied: wrapt>=1.11.0 in /usr/local/lib/python3.10/dist-packages (from tensorflow[and-cuda]==2.16.1) (1.14.1)\n",
            "Requirement already satisfied: grpcio<2.0,>=1.24.3 in /usr/local/lib/python3.10/dist-packages (from tensorflow[and-cuda]==2.16.1) (1.63.0)\n",
            "Collecting tensorboard<2.17,>=2.16 (from tensorflow[and-cuda]==2.16.1)\n",
            "  Downloading tensorboard-2.16.2-py3-none-any.whl (5.5 MB)\n",
            "\u001b[2K     \u001b[90m━━━━━━━━━━━━━━━━━━━━━━━━━━━━━━━━━━━━━━━━\u001b[0m \u001b[32m5.5/5.5 MB\u001b[0m \u001b[31m97.1 MB/s\u001b[0m eta \u001b[36m0:00:00\u001b[0m\n",
            "\u001b[?25hCollecting keras>=3.0.0 (from tensorflow[and-cuda]==2.16.1)\n",
            "  Downloading keras-3.3.3-py3-none-any.whl (1.1 MB)\n",
            "\u001b[2K     \u001b[90m━━━━━━━━━━━━━━━━━━━━━━━━━━━━━━━━━━━━━━━━\u001b[0m \u001b[32m1.1/1.1 MB\u001b[0m \u001b[31m82.5 MB/s\u001b[0m eta \u001b[36m0:00:00\u001b[0m\n",
            "\u001b[?25hRequirement already satisfied: tensorflow-io-gcs-filesystem>=0.23.1 in /usr/local/lib/python3.10/dist-packages (from tensorflow[and-cuda]==2.16.1) (0.37.0)\n",
            "Requirement already satisfied: numpy<2.0.0,>=1.23.5 in /usr/local/lib/python3.10/dist-packages (from tensorflow[and-cuda]==2.16.1) (1.25.2)\n",
            "Collecting nvidia-cublas-cu12==12.3.4.1 (from tensorflow[and-cuda]==2.16.1)\n",
            "  Downloading nvidia_cublas_cu12-12.3.4.1-py3-none-manylinux1_x86_64.whl (412.6 MB)\n",
            "\u001b[2K     \u001b[90m━━━━━━━━━━━━━━━━━━━━━━━━━━━━━━━━━━━━━━━━\u001b[0m \u001b[32m412.6/412.6 MB\u001b[0m \u001b[31m1.7 MB/s\u001b[0m eta \u001b[36m0:00:00\u001b[0m\n",
            "\u001b[?25hCollecting nvidia-cuda-cupti-cu12==12.3.101 (from tensorflow[and-cuda]==2.16.1)\n",
            "  Downloading nvidia_cuda_cupti_cu12-12.3.101-py3-none-manylinux1_x86_64.whl (14.0 MB)\n",
            "\u001b[2K     \u001b[90m━━━━━━━━━━━━━━━━━━━━━━━━━━━━━━━━━━━━━━━━\u001b[0m \u001b[32m14.0/14.0 MB\u001b[0m \u001b[31m83.7 MB/s\u001b[0m eta \u001b[36m0:00:00\u001b[0m\n",
            "\u001b[?25hCollecting nvidia-cuda-nvcc-cu12==12.3.107 (from tensorflow[and-cuda]==2.16.1)\n",
            "  Downloading nvidia_cuda_nvcc_cu12-12.3.107-py3-none-manylinux1_x86_64.whl (22.0 MB)\n",
            "\u001b[2K     \u001b[90m━━━━━━━━━━━━━━━━━━━━━━━━━━━━━━━━━━━━━━━━\u001b[0m \u001b[32m22.0/22.0 MB\u001b[0m \u001b[31m31.6 MB/s\u001b[0m eta \u001b[36m0:00:00\u001b[0m\n",
            "\u001b[?25hCollecting nvidia-cuda-nvrtc-cu12==12.3.107 (from tensorflow[and-cuda]==2.16.1)\n",
            "  Downloading nvidia_cuda_nvrtc_cu12-12.3.107-py3-none-manylinux1_x86_64.whl (24.9 MB)\n",
            "\u001b[2K     \u001b[90m━━━━━━━━━━━━━━━━━━━━━━━━━━━━━━━━━━━━━━━━\u001b[0m \u001b[32m24.9/24.9 MB\u001b[0m \u001b[31m61.7 MB/s\u001b[0m eta \u001b[36m0:00:00\u001b[0m\n",
            "\u001b[?25hCollecting nvidia-cuda-runtime-cu12==12.3.101 (from tensorflow[and-cuda]==2.16.1)\n",
            "  Downloading nvidia_cuda_runtime_cu12-12.3.101-py3-none-manylinux1_x86_64.whl (867 kB)\n",
            "\u001b[2K     \u001b[90m━━━━━━━━━━━━━━━━━━━━━━━━━━━━━━━━━━━━━━━━\u001b[0m \u001b[32m867.7/867.7 kB\u001b[0m \u001b[31m58.3 MB/s\u001b[0m eta \u001b[36m0:00:00\u001b[0m\n",
            "\u001b[?25hCollecting nvidia-cudnn-cu12==8.9.7.29 (from tensorflow[and-cuda]==2.16.1)\n",
            "  Downloading nvidia_cudnn_cu12-8.9.7.29-py3-none-manylinux1_x86_64.whl (704.7 MB)\n",
            "\u001b[2K     \u001b[90m━━━━━━━━━━━━━━━━━━━━━━━━━━━━━━━━━━━━━━━━\u001b[0m \u001b[32m704.7/704.7 MB\u001b[0m \u001b[31m2.0 MB/s\u001b[0m eta \u001b[36m0:00:00\u001b[0m\n",
            "\u001b[?25hCollecting nvidia-cufft-cu12==11.0.12.1 (from tensorflow[and-cuda]==2.16.1)\n",
            "  Downloading nvidia_cufft_cu12-11.0.12.1-py3-none-manylinux1_x86_64.whl (98.8 MB)\n",
            "\u001b[2K     \u001b[90m━━━━━━━━━━━━━━━━━━━━━━━━━━━━━━━━━━━━━━━━\u001b[0m \u001b[32m98.8/98.8 MB\u001b[0m \u001b[31m9.1 MB/s\u001b[0m eta \u001b[36m0:00:00\u001b[0m\n",
            "\u001b[?25hCollecting nvidia-curand-cu12==10.3.4.107 (from tensorflow[and-cuda]==2.16.1)\n",
            "  Downloading nvidia_curand_cu12-10.3.4.107-py3-none-manylinux1_x86_64.whl (56.3 MB)\n",
            "\u001b[2K     \u001b[90m━━━━━━━━━━━━━━━━━━━━━━━━━━━━━━━━━━━━━━━━\u001b[0m \u001b[32m56.3/56.3 MB\u001b[0m \u001b[31m12.0 MB/s\u001b[0m eta \u001b[36m0:00:00\u001b[0m\n",
            "\u001b[?25hCollecting nvidia-cusolver-cu12==11.5.4.101 (from tensorflow[and-cuda]==2.16.1)\n",
            "  Downloading nvidia_cusolver_cu12-11.5.4.101-py3-none-manylinux1_x86_64.whl (125.2 MB)\n",
            "\u001b[2K     \u001b[90m━━━━━━━━━━━━━━━━━━━━━━━━━━━━━━━━━━━━━━━━\u001b[0m \u001b[32m125.2/125.2 MB\u001b[0m \u001b[31m8.3 MB/s\u001b[0m eta \u001b[36m0:00:00\u001b[0m\n",
            "\u001b[?25hCollecting nvidia-cusparse-cu12==12.2.0.103 (from tensorflow[and-cuda]==2.16.1)\n",
            "  Downloading nvidia_cusparse_cu12-12.2.0.103-py3-none-manylinux1_x86_64.whl (197.5 MB)\n",
            "\u001b[2K     \u001b[90m━━━━━━━━━━━━━━━━━━━━━━━━━━━━━━━━━━━━━━━━\u001b[0m \u001b[32m197.5/197.5 MB\u001b[0m \u001b[31m5.6 MB/s\u001b[0m eta \u001b[36m0:00:00\u001b[0m\n",
            "\u001b[?25hCollecting nvidia-nccl-cu12==2.19.3 (from tensorflow[and-cuda]==2.16.1)\n",
            "  Using cached nvidia_nccl_cu12-2.19.3-py3-none-manylinux1_x86_64.whl (166.0 MB)\n",
            "Collecting nvidia-nvjitlink-cu12==12.3.101 (from tensorflow[and-cuda]==2.16.1)\n",
            "  Downloading nvidia_nvjitlink_cu12-12.3.101-py3-none-manylinux1_x86_64.whl (20.5 MB)\n",
            "\u001b[2K     \u001b[90m━━━━━━━━━━━━━━━━━━━━━━━━━━━━━━━━━━━━━━━━\u001b[0m \u001b[32m20.5/20.5 MB\u001b[0m \u001b[31m63.6 MB/s\u001b[0m eta \u001b[36m0:00:00\u001b[0m\n",
            "\u001b[?25hRequirement already satisfied: wheel<1.0,>=0.23.0 in /usr/local/lib/python3.10/dist-packages (from astunparse>=1.6.0->tensorflow[and-cuda]==2.16.1) (0.43.0)\n",
            "Requirement already satisfied: rich in /usr/local/lib/python3.10/dist-packages (from keras>=3.0.0->tensorflow[and-cuda]==2.16.1) (13.7.1)\n",
            "Collecting namex (from keras>=3.0.0->tensorflow[and-cuda]==2.16.1)\n",
            "  Downloading namex-0.0.8-py3-none-any.whl (5.8 kB)\n",
            "Collecting optree (from keras>=3.0.0->tensorflow[and-cuda]==2.16.1)\n",
            "  Downloading optree-0.11.0-cp310-cp310-manylinux_2_17_x86_64.manylinux2014_x86_64.whl (311 kB)\n",
            "\u001b[2K     \u001b[90m━━━━━━━━━━━━━━━━━━━━━━━━━━━━━━━━━━━━━━━━\u001b[0m \u001b[32m311.2/311.2 kB\u001b[0m \u001b[31m35.4 MB/s\u001b[0m eta \u001b[36m0:00:00\u001b[0m\n",
            "\u001b[?25hRequirement already satisfied: charset-normalizer<4,>=2 in /usr/local/lib/python3.10/dist-packages (from requests<3,>=2.21.0->tensorflow[and-cuda]==2.16.1) (3.3.2)\n",
            "Requirement already satisfied: idna<4,>=2.5 in /usr/local/lib/python3.10/dist-packages (from requests<3,>=2.21.0->tensorflow[and-cuda]==2.16.1) (3.7)\n",
            "Requirement already satisfied: urllib3<3,>=1.21.1 in /usr/local/lib/python3.10/dist-packages (from requests<3,>=2.21.0->tensorflow[and-cuda]==2.16.1) (2.0.7)\n",
            "Requirement already satisfied: certifi>=2017.4.17 in /usr/local/lib/python3.10/dist-packages (from requests<3,>=2.21.0->tensorflow[and-cuda]==2.16.1) (2024.2.2)\n",
            "Requirement already satisfied: markdown>=2.6.8 in /usr/local/lib/python3.10/dist-packages (from tensorboard<2.17,>=2.16->tensorflow[and-cuda]==2.16.1) (3.6)\n",
            "Requirement already satisfied: tensorboard-data-server<0.8.0,>=0.7.0 in /usr/local/lib/python3.10/dist-packages (from tensorboard<2.17,>=2.16->tensorflow[and-cuda]==2.16.1) (0.7.2)\n",
            "Requirement already satisfied: werkzeug>=1.0.1 in /usr/local/lib/python3.10/dist-packages (from tensorboard<2.17,>=2.16->tensorflow[and-cuda]==2.16.1) (3.0.3)\n",
            "Requirement already satisfied: MarkupSafe>=2.1.1 in /usr/local/lib/python3.10/dist-packages (from werkzeug>=1.0.1->tensorboard<2.17,>=2.16->tensorflow[and-cuda]==2.16.1) (2.1.5)\n",
            "Requirement already satisfied: markdown-it-py>=2.2.0 in /usr/local/lib/python3.10/dist-packages (from rich->keras>=3.0.0->tensorflow[and-cuda]==2.16.1) (3.0.0)\n",
            "Requirement already satisfied: pygments<3.0.0,>=2.13.0 in /usr/local/lib/python3.10/dist-packages (from rich->keras>=3.0.0->tensorflow[and-cuda]==2.16.1) (2.16.1)\n",
            "Requirement already satisfied: mdurl~=0.1 in /usr/local/lib/python3.10/dist-packages (from markdown-it-py>=2.2.0->rich->keras>=3.0.0->tensorflow[and-cuda]==2.16.1) (0.1.2)\n",
            "Installing collected packages: namex, optree, nvidia-nvjitlink-cu12, nvidia-nccl-cu12, nvidia-curand-cu12, nvidia-cufft-cu12, nvidia-cuda-runtime-cu12, nvidia-cuda-nvrtc-cu12, nvidia-cuda-nvcc-cu12, nvidia-cuda-cupti-cu12, nvidia-cublas-cu12, ml-dtypes, h5py, tensorboard, nvidia-cusparse-cu12, nvidia-cudnn-cu12, nvidia-cusolver-cu12, keras, tensorflow\n",
            "  Attempting uninstall: ml-dtypes\n",
            "    Found existing installation: ml-dtypes 0.2.0\n",
            "    Uninstalling ml-dtypes-0.2.0:\n",
            "      Successfully uninstalled ml-dtypes-0.2.0\n",
            "  Attempting uninstall: h5py\n",
            "    Found existing installation: h5py 3.9.0\n",
            "    Uninstalling h5py-3.9.0:\n",
            "      Successfully uninstalled h5py-3.9.0\n",
            "  Attempting uninstall: tensorboard\n",
            "    Found existing installation: tensorboard 2.15.2\n",
            "    Uninstalling tensorboard-2.15.2:\n",
            "      Successfully uninstalled tensorboard-2.15.2\n",
            "  Attempting uninstall: keras\n",
            "    Found existing installation: keras 2.15.0\n",
            "    Uninstalling keras-2.15.0:\n",
            "      Successfully uninstalled keras-2.15.0\n",
            "  Attempting uninstall: tensorflow\n",
            "    Found existing installation: tensorflow 2.15.0\n",
            "    Uninstalling tensorflow-2.15.0:\n",
            "      Successfully uninstalled tensorflow-2.15.0\n",
            "\u001b[31mERROR: pip's dependency resolver does not currently take into account all the packages that are installed. This behaviour is the source of the following dependency conflicts.\n",
            "torch 2.2.1+cu121 requires nvidia-nvtx-cu12==12.1.105; platform_system == \"Linux\" and platform_machine == \"x86_64\", which is not installed.\n",
            "tf-keras 2.15.1 requires tensorflow<2.16,>=2.15, but you have tensorflow 2.16.1 which is incompatible.\n",
            "torch 2.2.1+cu121 requires nvidia-cublas-cu12==12.1.3.1; platform_system == \"Linux\" and platform_machine == \"x86_64\", but you have nvidia-cublas-cu12 12.3.4.1 which is incompatible.\n",
            "torch 2.2.1+cu121 requires nvidia-cuda-cupti-cu12==12.1.105; platform_system == \"Linux\" and platform_machine == \"x86_64\", but you have nvidia-cuda-cupti-cu12 12.3.101 which is incompatible.\n",
            "torch 2.2.1+cu121 requires nvidia-cuda-nvrtc-cu12==12.1.105; platform_system == \"Linux\" and platform_machine == \"x86_64\", but you have nvidia-cuda-nvrtc-cu12 12.3.107 which is incompatible.\n",
            "torch 2.2.1+cu121 requires nvidia-cuda-runtime-cu12==12.1.105; platform_system == \"Linux\" and platform_machine == \"x86_64\", but you have nvidia-cuda-runtime-cu12 12.3.101 which is incompatible.\n",
            "torch 2.2.1+cu121 requires nvidia-cudnn-cu12==8.9.2.26; platform_system == \"Linux\" and platform_machine == \"x86_64\", but you have nvidia-cudnn-cu12 8.9.7.29 which is incompatible.\n",
            "torch 2.2.1+cu121 requires nvidia-cufft-cu12==11.0.2.54; platform_system == \"Linux\" and platform_machine == \"x86_64\", but you have nvidia-cufft-cu12 11.0.12.1 which is incompatible.\n",
            "torch 2.2.1+cu121 requires nvidia-curand-cu12==10.3.2.106; platform_system == \"Linux\" and platform_machine == \"x86_64\", but you have nvidia-curand-cu12 10.3.4.107 which is incompatible.\n",
            "torch 2.2.1+cu121 requires nvidia-cusolver-cu12==11.4.5.107; platform_system == \"Linux\" and platform_machine == \"x86_64\", but you have nvidia-cusolver-cu12 11.5.4.101 which is incompatible.\n",
            "torch 2.2.1+cu121 requires nvidia-cusparse-cu12==12.1.0.106; platform_system == \"Linux\" and platform_machine == \"x86_64\", but you have nvidia-cusparse-cu12 12.2.0.103 which is incompatible.\u001b[0m\u001b[31m\n",
            "\u001b[0mSuccessfully installed h5py-3.11.0 keras-3.3.3 ml-dtypes-0.3.2 namex-0.0.8 nvidia-cublas-cu12-12.3.4.1 nvidia-cuda-cupti-cu12-12.3.101 nvidia-cuda-nvcc-cu12-12.3.107 nvidia-cuda-nvrtc-cu12-12.3.107 nvidia-cuda-runtime-cu12-12.3.101 nvidia-cudnn-cu12-8.9.7.29 nvidia-cufft-cu12-11.0.12.1 nvidia-curand-cu12-10.3.4.107 nvidia-cusolver-cu12-11.5.4.101 nvidia-cusparse-cu12-12.2.0.103 nvidia-nccl-cu12-2.19.3 nvidia-nvjitlink-cu12-12.3.101 optree-0.11.0 tensorboard-2.16.2 tensorflow-2.16.1\n"
          ]
        }
      ],
      "source": [
        "!python3 -m pip install tensorflow[and-cuda]==2.16.1"
      ]
    },
    {
      "cell_type": "code",
      "execution_count": 2,
      "metadata": {
        "colab": {
          "base_uri": "https://localhost:8080/"
        },
        "id": "-4xxvA_KbqER",
        "outputId": "4f53d016-c860-4046-e3bc-19f93cb7f927"
      },
      "outputs": [
        {
          "output_type": "stream",
          "name": "stdout",
          "text": [
            "Requirement already satisfied: tf_keras in /usr/local/lib/python3.10/dist-packages (2.15.1)\n",
            "Collecting tf_keras\n",
            "  Downloading tf_keras-2.16.0-py3-none-any.whl (1.7 MB)\n",
            "\u001b[2K     \u001b[90m━━━━━━━━━━━━━━━━━━━━━━━━━━━━━━━━━━━━━━━━\u001b[0m \u001b[32m1.7/1.7 MB\u001b[0m \u001b[31m15.8 MB/s\u001b[0m eta \u001b[36m0:00:00\u001b[0m\n",
            "\u001b[?25hRequirement already satisfied: tensorflow<2.17,>=2.16 in /usr/local/lib/python3.10/dist-packages (from tf_keras) (2.16.1)\n",
            "Requirement already satisfied: absl-py>=1.0.0 in /usr/local/lib/python3.10/dist-packages (from tensorflow<2.17,>=2.16->tf_keras) (1.4.0)\n",
            "Requirement already satisfied: astunparse>=1.6.0 in /usr/local/lib/python3.10/dist-packages (from tensorflow<2.17,>=2.16->tf_keras) (1.6.3)\n",
            "Requirement already satisfied: flatbuffers>=23.5.26 in /usr/local/lib/python3.10/dist-packages (from tensorflow<2.17,>=2.16->tf_keras) (24.3.25)\n",
            "Requirement already satisfied: gast!=0.5.0,!=0.5.1,!=0.5.2,>=0.2.1 in /usr/local/lib/python3.10/dist-packages (from tensorflow<2.17,>=2.16->tf_keras) (0.5.4)\n",
            "Requirement already satisfied: google-pasta>=0.1.1 in /usr/local/lib/python3.10/dist-packages (from tensorflow<2.17,>=2.16->tf_keras) (0.2.0)\n",
            "Requirement already satisfied: h5py>=3.10.0 in /usr/local/lib/python3.10/dist-packages (from tensorflow<2.17,>=2.16->tf_keras) (3.11.0)\n",
            "Requirement already satisfied: libclang>=13.0.0 in /usr/local/lib/python3.10/dist-packages (from tensorflow<2.17,>=2.16->tf_keras) (18.1.1)\n",
            "Requirement already satisfied: ml-dtypes~=0.3.1 in /usr/local/lib/python3.10/dist-packages (from tensorflow<2.17,>=2.16->tf_keras) (0.3.2)\n",
            "Requirement already satisfied: opt-einsum>=2.3.2 in /usr/local/lib/python3.10/dist-packages (from tensorflow<2.17,>=2.16->tf_keras) (3.3.0)\n",
            "Requirement already satisfied: packaging in /usr/local/lib/python3.10/dist-packages (from tensorflow<2.17,>=2.16->tf_keras) (24.0)\n",
            "Requirement already satisfied: protobuf!=4.21.0,!=4.21.1,!=4.21.2,!=4.21.3,!=4.21.4,!=4.21.5,<5.0.0dev,>=3.20.3 in /usr/local/lib/python3.10/dist-packages (from tensorflow<2.17,>=2.16->tf_keras) (3.20.3)\n",
            "Requirement already satisfied: requests<3,>=2.21.0 in /usr/local/lib/python3.10/dist-packages (from tensorflow<2.17,>=2.16->tf_keras) (2.31.0)\n",
            "Requirement already satisfied: setuptools in /usr/local/lib/python3.10/dist-packages (from tensorflow<2.17,>=2.16->tf_keras) (67.7.2)\n",
            "Requirement already satisfied: six>=1.12.0 in /usr/local/lib/python3.10/dist-packages (from tensorflow<2.17,>=2.16->tf_keras) (1.16.0)\n",
            "Requirement already satisfied: termcolor>=1.1.0 in /usr/local/lib/python3.10/dist-packages (from tensorflow<2.17,>=2.16->tf_keras) (2.4.0)\n",
            "Requirement already satisfied: typing-extensions>=3.6.6 in /usr/local/lib/python3.10/dist-packages (from tensorflow<2.17,>=2.16->tf_keras) (4.11.0)\n",
            "Requirement already satisfied: wrapt>=1.11.0 in /usr/local/lib/python3.10/dist-packages (from tensorflow<2.17,>=2.16->tf_keras) (1.14.1)\n",
            "Requirement already satisfied: grpcio<2.0,>=1.24.3 in /usr/local/lib/python3.10/dist-packages (from tensorflow<2.17,>=2.16->tf_keras) (1.63.0)\n",
            "Requirement already satisfied: tensorboard<2.17,>=2.16 in /usr/local/lib/python3.10/dist-packages (from tensorflow<2.17,>=2.16->tf_keras) (2.16.2)\n",
            "Requirement already satisfied: keras>=3.0.0 in /usr/local/lib/python3.10/dist-packages (from tensorflow<2.17,>=2.16->tf_keras) (3.3.3)\n",
            "Requirement already satisfied: tensorflow-io-gcs-filesystem>=0.23.1 in /usr/local/lib/python3.10/dist-packages (from tensorflow<2.17,>=2.16->tf_keras) (0.37.0)\n",
            "Requirement already satisfied: numpy<2.0.0,>=1.23.5 in /usr/local/lib/python3.10/dist-packages (from tensorflow<2.17,>=2.16->tf_keras) (1.25.2)\n",
            "Requirement already satisfied: wheel<1.0,>=0.23.0 in /usr/local/lib/python3.10/dist-packages (from astunparse>=1.6.0->tensorflow<2.17,>=2.16->tf_keras) (0.43.0)\n",
            "Requirement already satisfied: rich in /usr/local/lib/python3.10/dist-packages (from keras>=3.0.0->tensorflow<2.17,>=2.16->tf_keras) (13.7.1)\n",
            "Requirement already satisfied: namex in /usr/local/lib/python3.10/dist-packages (from keras>=3.0.0->tensorflow<2.17,>=2.16->tf_keras) (0.0.8)\n",
            "Requirement already satisfied: optree in /usr/local/lib/python3.10/dist-packages (from keras>=3.0.0->tensorflow<2.17,>=2.16->tf_keras) (0.11.0)\n",
            "Requirement already satisfied: charset-normalizer<4,>=2 in /usr/local/lib/python3.10/dist-packages (from requests<3,>=2.21.0->tensorflow<2.17,>=2.16->tf_keras) (3.3.2)\n",
            "Requirement already satisfied: idna<4,>=2.5 in /usr/local/lib/python3.10/dist-packages (from requests<3,>=2.21.0->tensorflow<2.17,>=2.16->tf_keras) (3.7)\n",
            "Requirement already satisfied: urllib3<3,>=1.21.1 in /usr/local/lib/python3.10/dist-packages (from requests<3,>=2.21.0->tensorflow<2.17,>=2.16->tf_keras) (2.0.7)\n",
            "Requirement already satisfied: certifi>=2017.4.17 in /usr/local/lib/python3.10/dist-packages (from requests<3,>=2.21.0->tensorflow<2.17,>=2.16->tf_keras) (2024.2.2)\n",
            "Requirement already satisfied: markdown>=2.6.8 in /usr/local/lib/python3.10/dist-packages (from tensorboard<2.17,>=2.16->tensorflow<2.17,>=2.16->tf_keras) (3.6)\n",
            "Requirement already satisfied: tensorboard-data-server<0.8.0,>=0.7.0 in /usr/local/lib/python3.10/dist-packages (from tensorboard<2.17,>=2.16->tensorflow<2.17,>=2.16->tf_keras) (0.7.2)\n",
            "Requirement already satisfied: werkzeug>=1.0.1 in /usr/local/lib/python3.10/dist-packages (from tensorboard<2.17,>=2.16->tensorflow<2.17,>=2.16->tf_keras) (3.0.3)\n",
            "Requirement already satisfied: MarkupSafe>=2.1.1 in /usr/local/lib/python3.10/dist-packages (from werkzeug>=1.0.1->tensorboard<2.17,>=2.16->tensorflow<2.17,>=2.16->tf_keras) (2.1.5)\n",
            "Requirement already satisfied: markdown-it-py>=2.2.0 in /usr/local/lib/python3.10/dist-packages (from rich->keras>=3.0.0->tensorflow<2.17,>=2.16->tf_keras) (3.0.0)\n",
            "Requirement already satisfied: pygments<3.0.0,>=2.13.0 in /usr/local/lib/python3.10/dist-packages (from rich->keras>=3.0.0->tensorflow<2.17,>=2.16->tf_keras) (2.16.1)\n",
            "Requirement already satisfied: mdurl~=0.1 in /usr/local/lib/python3.10/dist-packages (from markdown-it-py>=2.2.0->rich->keras>=3.0.0->tensorflow<2.17,>=2.16->tf_keras) (0.1.2)\n",
            "Installing collected packages: tf_keras\n",
            "  Attempting uninstall: tf_keras\n",
            "    Found existing installation: tf_keras 2.15.1\n",
            "    Uninstalling tf_keras-2.15.1:\n",
            "      Successfully uninstalled tf_keras-2.15.1\n",
            "Successfully installed tf_keras-2.16.0\n"
          ]
        }
      ],
      "source": [
        "!pip install -U tf_keras # Keras 2\n",
        "import os\n",
        "os.environ[\"TF_USE_LEGACY_KERAS\"] = \"1\""
      ]
    },
    {
      "cell_type": "code",
      "execution_count": 3,
      "metadata": {
        "colab": {
          "base_uri": "https://localhost:8080/"
        },
        "id": "U5M_OjM7Tb0Y",
        "outputId": "4f156738-f365-4159-c959-94c26e74bc9b"
      },
      "outputs": [
        {
          "output_type": "stream",
          "name": "stdout",
          "text": [
            "2.16.1\n"
          ]
        }
      ],
      "source": [
        "import tensorflow as tf\n",
        "print(tf.__version__)"
      ]
    },
    {
      "cell_type": "code",
      "execution_count": 5,
      "metadata": {
        "id": "l8EaZ0B6MRQd"
      },
      "outputs": [],
      "source": [
        "import matplotlib.pyplot as plt\n",
        "import numpy as np\n",
        "import pandas as pd\n",
        "import seaborn as sns\n",
        "import tensorflow as tf\n",
        "from tensorflow.keras.models import Sequential\n",
        "from tensorflow.keras.layers import Dense, Flatten, Input\n",
        "from tensorflow.keras.callbacks import LearningRateScheduler\n",
        "# from scikeras.wrappers import KerasClassifier\n",
        "from sklearn.model_selection import GridSearchCV\n",
        "from tensorflow.keras.optimizers import Adam\n",
        "from tensorflow.keras.constraints import MaxNorm\n",
        "from tensorflow.keras.layers import Dropout\n",
        "from keras import regularizers"
      ]
    },
    {
      "cell_type": "markdown",
      "metadata": {
        "id": "RNwY-aTkqBtH"
      },
      "source": [
        "# Read all csv files and combine\n",
        "## These contain continuous time series data"
      ]
    },
    {
      "cell_type": "code",
      "execution_count": 6,
      "metadata": {
        "id": "rKwfGOXaMm2O"
      },
      "outputs": [],
      "source": [
        "# df_kicks1 = pd.read_csv(\"/content/drive/MyDrive/DSS/continuous_kicks_I_labelled.csv\")\n",
        "# df_kicks2 = pd.read_csv(\"/content/drive/MyDrive/DSS/continuous_kicks_II_labelled.csv\")\n",
        "# df_kicks3 = pd.read_csv(\"/content/drive/MyDrive/DSS/continuous_kicks_III_labelled.csv\")\n",
        "\n",
        "# df_kicks_test = pd.read_csv(\"/content/drive/MyDrive/DSS/continuous_kicks_test_labelled.csv\")\n",
        "df_kicks1 = pd.read_csv(\"/content/drive/MyDrive/DSS/continuous_kicks_I_labelled2.csv\")\n",
        "df_kicks2 = pd.read_csv(\"/content/drive/MyDrive/DSS/continuous_kicks_II_labelled2.csv\")\n",
        "df_kicks3 = pd.read_csv(\"/content/drive/MyDrive/DSS/continuous_kicks_III_labelled2.csv\")\n",
        "\n",
        "df_kicks_test = pd.read_csv(\"/content/drive/MyDrive/DSS/continuous_kicks_test_labelled2.csv\")\n",
        "all_kicks = pd.concat([df_kicks1, df_kicks2, df_kicks3], axis=0)\n",
        "all_kicks.reset_index(drop=True, inplace=True)"
      ]
    },
    {
      "cell_type": "code",
      "execution_count": null,
      "metadata": {
        "colab": {
          "base_uri": "https://localhost:8080/",
          "height": 424
        },
        "id": "lql8jEEDcJ0p",
        "outputId": "c9d4b272-32f6-4474-8ac4-42c02424dec3"
      },
      "outputs": [
        {
          "output_type": "execute_result",
          "data": {
            "text/plain": [
              "             time        ax        ay        az        am        rx        ry  \\\n",
              "0        0.000005 -0.967285  0.018799  0.232910  0.993857  3.448486  3.631592   \n",
              "1        0.342938 -0.970947  0.046387  0.266113  1.005671  3.997803  2.105713   \n",
              "2        0.362382 -0.965332  0.064941  0.248047  0.988421  2.716064  1.892090   \n",
              "3        0.381505 -0.943604  0.056396  0.244385  0.984302  3.997803  2.777100   \n",
              "4        0.400617 -0.972900  0.059082  0.247803  1.016512  5.950928  1.922607   \n",
              "...           ...       ...       ...       ...       ...       ...       ...   \n",
              "26594  157.276149 -0.977295  0.080566  0.147217  0.988574  0.122070  2.014160   \n",
              "26595  157.293291 -0.972900  0.076416  0.152344  0.991101  0.549316  2.319336   \n",
              "26596  157.310528 -0.988037  0.072998  0.143311  1.001748  0.732422  1.586914   \n",
              "26597  157.327724 -0.974609  0.077637  0.144287  0.985746  1.068115  1.831055   \n",
              "26598  157.344908 -0.978027  0.082275  0.152100  0.997381  1.342773  2.105713   \n",
              "\n",
              "             rz        rm  movement  \n",
              "0     -0.671387  5.211005         0  \n",
              "1     -0.457764  4.283998         0  \n",
              "2      0.061035  3.610631         0  \n",
              "3     -0.457764  5.022066         0  \n",
              "4     -1.098633  6.351470         0  \n",
              "...         ...       ...       ...  \n",
              "26594  0.732422  2.390522         0  \n",
              "26595  0.579834  2.573086         0  \n",
              "26596  0.427246  1.997911         0  \n",
              "26597  0.274658  2.309880         0  \n",
              "26598  0.183105  2.408376         0  \n",
              "\n",
              "[26599 rows x 10 columns]"
            ],
            "text/html": [
              "\n",
              "  <div id=\"df-31ace040-01be-4f09-ad58-f3c98cf5099b\" class=\"colab-df-container\">\n",
              "    <div>\n",
              "<style scoped>\n",
              "    .dataframe tbody tr th:only-of-type {\n",
              "        vertical-align: middle;\n",
              "    }\n",
              "\n",
              "    .dataframe tbody tr th {\n",
              "        vertical-align: top;\n",
              "    }\n",
              "\n",
              "    .dataframe thead th {\n",
              "        text-align: right;\n",
              "    }\n",
              "</style>\n",
              "<table border=\"1\" class=\"dataframe\">\n",
              "  <thead>\n",
              "    <tr style=\"text-align: right;\">\n",
              "      <th></th>\n",
              "      <th>time</th>\n",
              "      <th>ax</th>\n",
              "      <th>ay</th>\n",
              "      <th>az</th>\n",
              "      <th>am</th>\n",
              "      <th>rx</th>\n",
              "      <th>ry</th>\n",
              "      <th>rz</th>\n",
              "      <th>rm</th>\n",
              "      <th>movement</th>\n",
              "    </tr>\n",
              "  </thead>\n",
              "  <tbody>\n",
              "    <tr>\n",
              "      <th>0</th>\n",
              "      <td>0.000005</td>\n",
              "      <td>-0.967285</td>\n",
              "      <td>0.018799</td>\n",
              "      <td>0.232910</td>\n",
              "      <td>0.993857</td>\n",
              "      <td>3.448486</td>\n",
              "      <td>3.631592</td>\n",
              "      <td>-0.671387</td>\n",
              "      <td>5.211005</td>\n",
              "      <td>0</td>\n",
              "    </tr>\n",
              "    <tr>\n",
              "      <th>1</th>\n",
              "      <td>0.342938</td>\n",
              "      <td>-0.970947</td>\n",
              "      <td>0.046387</td>\n",
              "      <td>0.266113</td>\n",
              "      <td>1.005671</td>\n",
              "      <td>3.997803</td>\n",
              "      <td>2.105713</td>\n",
              "      <td>-0.457764</td>\n",
              "      <td>4.283998</td>\n",
              "      <td>0</td>\n",
              "    </tr>\n",
              "    <tr>\n",
              "      <th>2</th>\n",
              "      <td>0.362382</td>\n",
              "      <td>-0.965332</td>\n",
              "      <td>0.064941</td>\n",
              "      <td>0.248047</td>\n",
              "      <td>0.988421</td>\n",
              "      <td>2.716064</td>\n",
              "      <td>1.892090</td>\n",
              "      <td>0.061035</td>\n",
              "      <td>3.610631</td>\n",
              "      <td>0</td>\n",
              "    </tr>\n",
              "    <tr>\n",
              "      <th>3</th>\n",
              "      <td>0.381505</td>\n",
              "      <td>-0.943604</td>\n",
              "      <td>0.056396</td>\n",
              "      <td>0.244385</td>\n",
              "      <td>0.984302</td>\n",
              "      <td>3.997803</td>\n",
              "      <td>2.777100</td>\n",
              "      <td>-0.457764</td>\n",
              "      <td>5.022066</td>\n",
              "      <td>0</td>\n",
              "    </tr>\n",
              "    <tr>\n",
              "      <th>4</th>\n",
              "      <td>0.400617</td>\n",
              "      <td>-0.972900</td>\n",
              "      <td>0.059082</td>\n",
              "      <td>0.247803</td>\n",
              "      <td>1.016512</td>\n",
              "      <td>5.950928</td>\n",
              "      <td>1.922607</td>\n",
              "      <td>-1.098633</td>\n",
              "      <td>6.351470</td>\n",
              "      <td>0</td>\n",
              "    </tr>\n",
              "    <tr>\n",
              "      <th>...</th>\n",
              "      <td>...</td>\n",
              "      <td>...</td>\n",
              "      <td>...</td>\n",
              "      <td>...</td>\n",
              "      <td>...</td>\n",
              "      <td>...</td>\n",
              "      <td>...</td>\n",
              "      <td>...</td>\n",
              "      <td>...</td>\n",
              "      <td>...</td>\n",
              "    </tr>\n",
              "    <tr>\n",
              "      <th>26594</th>\n",
              "      <td>157.276149</td>\n",
              "      <td>-0.977295</td>\n",
              "      <td>0.080566</td>\n",
              "      <td>0.147217</td>\n",
              "      <td>0.988574</td>\n",
              "      <td>0.122070</td>\n",
              "      <td>2.014160</td>\n",
              "      <td>0.732422</td>\n",
              "      <td>2.390522</td>\n",
              "      <td>0</td>\n",
              "    </tr>\n",
              "    <tr>\n",
              "      <th>26595</th>\n",
              "      <td>157.293291</td>\n",
              "      <td>-0.972900</td>\n",
              "      <td>0.076416</td>\n",
              "      <td>0.152344</td>\n",
              "      <td>0.991101</td>\n",
              "      <td>0.549316</td>\n",
              "      <td>2.319336</td>\n",
              "      <td>0.579834</td>\n",
              "      <td>2.573086</td>\n",
              "      <td>0</td>\n",
              "    </tr>\n",
              "    <tr>\n",
              "      <th>26596</th>\n",
              "      <td>157.310528</td>\n",
              "      <td>-0.988037</td>\n",
              "      <td>0.072998</td>\n",
              "      <td>0.143311</td>\n",
              "      <td>1.001748</td>\n",
              "      <td>0.732422</td>\n",
              "      <td>1.586914</td>\n",
              "      <td>0.427246</td>\n",
              "      <td>1.997911</td>\n",
              "      <td>0</td>\n",
              "    </tr>\n",
              "    <tr>\n",
              "      <th>26597</th>\n",
              "      <td>157.327724</td>\n",
              "      <td>-0.974609</td>\n",
              "      <td>0.077637</td>\n",
              "      <td>0.144287</td>\n",
              "      <td>0.985746</td>\n",
              "      <td>1.068115</td>\n",
              "      <td>1.831055</td>\n",
              "      <td>0.274658</td>\n",
              "      <td>2.309880</td>\n",
              "      <td>0</td>\n",
              "    </tr>\n",
              "    <tr>\n",
              "      <th>26598</th>\n",
              "      <td>157.344908</td>\n",
              "      <td>-0.978027</td>\n",
              "      <td>0.082275</td>\n",
              "      <td>0.152100</td>\n",
              "      <td>0.997381</td>\n",
              "      <td>1.342773</td>\n",
              "      <td>2.105713</td>\n",
              "      <td>0.183105</td>\n",
              "      <td>2.408376</td>\n",
              "      <td>0</td>\n",
              "    </tr>\n",
              "  </tbody>\n",
              "</table>\n",
              "<p>26599 rows × 10 columns</p>\n",
              "</div>\n",
              "    <div class=\"colab-df-buttons\">\n",
              "\n",
              "  <div class=\"colab-df-container\">\n",
              "    <button class=\"colab-df-convert\" onclick=\"convertToInteractive('df-31ace040-01be-4f09-ad58-f3c98cf5099b')\"\n",
              "            title=\"Convert this dataframe to an interactive table.\"\n",
              "            style=\"display:none;\">\n",
              "\n",
              "  <svg xmlns=\"http://www.w3.org/2000/svg\" height=\"24px\" viewBox=\"0 -960 960 960\">\n",
              "    <path d=\"M120-120v-720h720v720H120Zm60-500h600v-160H180v160Zm220 220h160v-160H400v160Zm0 220h160v-160H400v160ZM180-400h160v-160H180v160Zm440 0h160v-160H620v160ZM180-180h160v-160H180v160Zm440 0h160v-160H620v160Z\"/>\n",
              "  </svg>\n",
              "    </button>\n",
              "\n",
              "  <style>\n",
              "    .colab-df-container {\n",
              "      display:flex;\n",
              "      gap: 12px;\n",
              "    }\n",
              "\n",
              "    .colab-df-convert {\n",
              "      background-color: #E8F0FE;\n",
              "      border: none;\n",
              "      border-radius: 50%;\n",
              "      cursor: pointer;\n",
              "      display: none;\n",
              "      fill: #1967D2;\n",
              "      height: 32px;\n",
              "      padding: 0 0 0 0;\n",
              "      width: 32px;\n",
              "    }\n",
              "\n",
              "    .colab-df-convert:hover {\n",
              "      background-color: #E2EBFA;\n",
              "      box-shadow: 0px 1px 2px rgba(60, 64, 67, 0.3), 0px 1px 3px 1px rgba(60, 64, 67, 0.15);\n",
              "      fill: #174EA6;\n",
              "    }\n",
              "\n",
              "    .colab-df-buttons div {\n",
              "      margin-bottom: 4px;\n",
              "    }\n",
              "\n",
              "    [theme=dark] .colab-df-convert {\n",
              "      background-color: #3B4455;\n",
              "      fill: #D2E3FC;\n",
              "    }\n",
              "\n",
              "    [theme=dark] .colab-df-convert:hover {\n",
              "      background-color: #434B5C;\n",
              "      box-shadow: 0px 1px 3px 1px rgba(0, 0, 0, 0.15);\n",
              "      filter: drop-shadow(0px 1px 2px rgba(0, 0, 0, 0.3));\n",
              "      fill: #FFFFFF;\n",
              "    }\n",
              "  </style>\n",
              "\n",
              "    <script>\n",
              "      const buttonEl =\n",
              "        document.querySelector('#df-31ace040-01be-4f09-ad58-f3c98cf5099b button.colab-df-convert');\n",
              "      buttonEl.style.display =\n",
              "        google.colab.kernel.accessAllowed ? 'block' : 'none';\n",
              "\n",
              "      async function convertToInteractive(key) {\n",
              "        const element = document.querySelector('#df-31ace040-01be-4f09-ad58-f3c98cf5099b');\n",
              "        const dataTable =\n",
              "          await google.colab.kernel.invokeFunction('convertToInteractive',\n",
              "                                                    [key], {});\n",
              "        if (!dataTable) return;\n",
              "\n",
              "        const docLinkHtml = 'Like what you see? Visit the ' +\n",
              "          '<a target=\"_blank\" href=https://colab.research.google.com/notebooks/data_table.ipynb>data table notebook</a>'\n",
              "          + ' to learn more about interactive tables.';\n",
              "        element.innerHTML = '';\n",
              "        dataTable['output_type'] = 'display_data';\n",
              "        await google.colab.output.renderOutput(dataTable, element);\n",
              "        const docLink = document.createElement('div');\n",
              "        docLink.innerHTML = docLinkHtml;\n",
              "        element.appendChild(docLink);\n",
              "      }\n",
              "    </script>\n",
              "  </div>\n",
              "\n",
              "\n",
              "<div id=\"df-d87e471c-2d85-42e6-bff7-6c45586da83c\">\n",
              "  <button class=\"colab-df-quickchart\" onclick=\"quickchart('df-d87e471c-2d85-42e6-bff7-6c45586da83c')\"\n",
              "            title=\"Suggest charts\"\n",
              "            style=\"display:none;\">\n",
              "\n",
              "<svg xmlns=\"http://www.w3.org/2000/svg\" height=\"24px\"viewBox=\"0 0 24 24\"\n",
              "     width=\"24px\">\n",
              "    <g>\n",
              "        <path d=\"M19 3H5c-1.1 0-2 .9-2 2v14c0 1.1.9 2 2 2h14c1.1 0 2-.9 2-2V5c0-1.1-.9-2-2-2zM9 17H7v-7h2v7zm4 0h-2V7h2v10zm4 0h-2v-4h2v4z\"/>\n",
              "    </g>\n",
              "</svg>\n",
              "  </button>\n",
              "\n",
              "<style>\n",
              "  .colab-df-quickchart {\n",
              "      --bg-color: #E8F0FE;\n",
              "      --fill-color: #1967D2;\n",
              "      --hover-bg-color: #E2EBFA;\n",
              "      --hover-fill-color: #174EA6;\n",
              "      --disabled-fill-color: #AAA;\n",
              "      --disabled-bg-color: #DDD;\n",
              "  }\n",
              "\n",
              "  [theme=dark] .colab-df-quickchart {\n",
              "      --bg-color: #3B4455;\n",
              "      --fill-color: #D2E3FC;\n",
              "      --hover-bg-color: #434B5C;\n",
              "      --hover-fill-color: #FFFFFF;\n",
              "      --disabled-bg-color: #3B4455;\n",
              "      --disabled-fill-color: #666;\n",
              "  }\n",
              "\n",
              "  .colab-df-quickchart {\n",
              "    background-color: var(--bg-color);\n",
              "    border: none;\n",
              "    border-radius: 50%;\n",
              "    cursor: pointer;\n",
              "    display: none;\n",
              "    fill: var(--fill-color);\n",
              "    height: 32px;\n",
              "    padding: 0;\n",
              "    width: 32px;\n",
              "  }\n",
              "\n",
              "  .colab-df-quickchart:hover {\n",
              "    background-color: var(--hover-bg-color);\n",
              "    box-shadow: 0 1px 2px rgba(60, 64, 67, 0.3), 0 1px 3px 1px rgba(60, 64, 67, 0.15);\n",
              "    fill: var(--button-hover-fill-color);\n",
              "  }\n",
              "\n",
              "  .colab-df-quickchart-complete:disabled,\n",
              "  .colab-df-quickchart-complete:disabled:hover {\n",
              "    background-color: var(--disabled-bg-color);\n",
              "    fill: var(--disabled-fill-color);\n",
              "    box-shadow: none;\n",
              "  }\n",
              "\n",
              "  .colab-df-spinner {\n",
              "    border: 2px solid var(--fill-color);\n",
              "    border-color: transparent;\n",
              "    border-bottom-color: var(--fill-color);\n",
              "    animation:\n",
              "      spin 1s steps(1) infinite;\n",
              "  }\n",
              "\n",
              "  @keyframes spin {\n",
              "    0% {\n",
              "      border-color: transparent;\n",
              "      border-bottom-color: var(--fill-color);\n",
              "      border-left-color: var(--fill-color);\n",
              "    }\n",
              "    20% {\n",
              "      border-color: transparent;\n",
              "      border-left-color: var(--fill-color);\n",
              "      border-top-color: var(--fill-color);\n",
              "    }\n",
              "    30% {\n",
              "      border-color: transparent;\n",
              "      border-left-color: var(--fill-color);\n",
              "      border-top-color: var(--fill-color);\n",
              "      border-right-color: var(--fill-color);\n",
              "    }\n",
              "    40% {\n",
              "      border-color: transparent;\n",
              "      border-right-color: var(--fill-color);\n",
              "      border-top-color: var(--fill-color);\n",
              "    }\n",
              "    60% {\n",
              "      border-color: transparent;\n",
              "      border-right-color: var(--fill-color);\n",
              "    }\n",
              "    80% {\n",
              "      border-color: transparent;\n",
              "      border-right-color: var(--fill-color);\n",
              "      border-bottom-color: var(--fill-color);\n",
              "    }\n",
              "    90% {\n",
              "      border-color: transparent;\n",
              "      border-bottom-color: var(--fill-color);\n",
              "    }\n",
              "  }\n",
              "</style>\n",
              "\n",
              "  <script>\n",
              "    async function quickchart(key) {\n",
              "      const quickchartButtonEl =\n",
              "        document.querySelector('#' + key + ' button');\n",
              "      quickchartButtonEl.disabled = true;  // To prevent multiple clicks.\n",
              "      quickchartButtonEl.classList.add('colab-df-spinner');\n",
              "      try {\n",
              "        const charts = await google.colab.kernel.invokeFunction(\n",
              "            'suggestCharts', [key], {});\n",
              "      } catch (error) {\n",
              "        console.error('Error during call to suggestCharts:', error);\n",
              "      }\n",
              "      quickchartButtonEl.classList.remove('colab-df-spinner');\n",
              "      quickchartButtonEl.classList.add('colab-df-quickchart-complete');\n",
              "    }\n",
              "    (() => {\n",
              "      let quickchartButtonEl =\n",
              "        document.querySelector('#df-d87e471c-2d85-42e6-bff7-6c45586da83c button');\n",
              "      quickchartButtonEl.style.display =\n",
              "        google.colab.kernel.accessAllowed ? 'block' : 'none';\n",
              "    })();\n",
              "  </script>\n",
              "</div>\n",
              "    </div>\n",
              "  </div>\n"
            ],
            "application/vnd.google.colaboratory.intrinsic+json": {
              "type": "dataframe",
              "variable_name": "all_kicks",
              "summary": "{\n  \"name\": \"all_kicks\",\n  \"rows\": 26599,\n  \"fields\": [\n    {\n      \"column\": \"time\",\n      \"properties\": {\n        \"dtype\": \"number\",\n        \"std\": 44.164961877788286,\n        \"min\": 5.4836273193359375e-06,\n        \"max\": 157.34490847587583,\n        \"num_unique_values\": 26598,\n        \"samples\": [\n          75.6326973438263,\n          27.29800271987915,\n          100.19306349754332\n        ],\n        \"semantic_type\": \"\",\n        \"description\": \"\"\n      }\n    },\n    {\n      \"column\": \"ax\",\n      \"properties\": {\n        \"dtype\": \"number\",\n        \"std\": 0.5666800890003946,\n        \"min\": -4.0,\n        \"max\": 3.9998779296875,\n        \"num_unique_values\": 5830,\n        \"samples\": [\n          -1.209716796875,\n          -0.5087890625,\n          -0.949951171875\n        ],\n        \"semantic_type\": \"\",\n        \"description\": \"\"\n      }\n    },\n    {\n      \"column\": \"ay\",\n      \"properties\": {\n        \"dtype\": \"number\",\n        \"std\": 0.5085440004530983,\n        \"min\": -4.0,\n        \"max\": 3.9998779296875,\n        \"num_unique_values\": 6342,\n        \"samples\": [\n          0.1123046875,\n          -0.7724609375,\n          1.634765625\n        ],\n        \"semantic_type\": \"\",\n        \"description\": \"\"\n      }\n    },\n    {\n      \"column\": \"az\",\n      \"properties\": {\n        \"dtype\": \"number\",\n        \"std\": 0.41990845129145654,\n        \"min\": -4.0,\n        \"max\": 3.9998779296875,\n        \"num_unique_values\": 5628,\n        \"samples\": [\n          1.120361328125,\n          -0.13916015625,\n          0.869384765625\n        ],\n        \"semantic_type\": \"\",\n        \"description\": \"\"\n      }\n    },\n    {\n      \"column\": \"am\",\n      \"properties\": {\n        \"dtype\": \"number\",\n        \"std\": 0.582499029347536,\n        \"min\": 0.1423191174027006,\n        \"max\": 6.928132753664667,\n        \"num_unique_values\": 26539,\n        \"samples\": [\n          1.0054991141760674,\n          0.9949646777683688,\n          0.9270519758486226\n        ],\n        \"semantic_type\": \"\",\n        \"description\": \"\"\n      }\n    },\n    {\n      \"column\": \"rx\",\n      \"properties\": {\n        \"dtype\": \"number\",\n        \"std\": 74.25854123299382,\n        \"min\": -1000.0,\n        \"max\": 927.734375,\n        \"num_unique_values\": 7416,\n        \"samples\": [\n          67.19970703125,\n          28.86962890625,\n          -118.927001953125\n        ],\n        \"semantic_type\": \"\",\n        \"description\": \"\"\n      }\n    },\n    {\n      \"column\": \"ry\",\n      \"properties\": {\n        \"dtype\": \"number\",\n        \"std\": 87.7050910684995,\n        \"min\": -507.049560546875,\n        \"max\": 999.969482421875,\n        \"num_unique_values\": 7410,\n        \"samples\": [\n          23.13232421875,\n          8.30078125,\n          62.591552734375\n        ],\n        \"semantic_type\": \"\",\n        \"description\": \"\"\n      }\n    },\n    {\n      \"column\": \"rz\",\n      \"properties\": {\n        \"dtype\": \"number\",\n        \"std\": 57.231300184264114,\n        \"min\": -472.96142578125,\n        \"max\": 537.811279296875,\n        \"num_unique_values\": 5706,\n        \"samples\": [\n          -126.129150390625,\n          -6.04248046875,\n          20.782470703125\n        ],\n        \"semantic_type\": \"\",\n        \"description\": \"\"\n      }\n    },\n    {\n      \"column\": \"rm\",\n      \"properties\": {\n        \"dtype\": \"number\",\n        \"std\": 106.1534917674845,\n        \"min\": 0.5733732369401836,\n        \"max\": 1077.4904341076692,\n        \"num_unique_values\": 26264,\n        \"samples\": [\n          98.39299762767476,\n          11.808725493235965,\n          12.204704062836797\n        ],\n        \"semantic_type\": \"\",\n        \"description\": \"\"\n      }\n    },\n    {\n      \"column\": \"movement\",\n      \"properties\": {\n        \"dtype\": \"number\",\n        \"std\": 1,\n        \"min\": 0,\n        \"max\": 3,\n        \"num_unique_values\": 4,\n        \"samples\": [\n          1,\n          2,\n          0\n        ],\n        \"semantic_type\": \"\",\n        \"description\": \"\"\n      }\n    }\n  ]\n}"
            }
          },
          "metadata": {},
          "execution_count": 19
        }
      ],
      "source": [
        "all_kicks"
      ]
    },
    {
      "cell_type": "code",
      "execution_count": 21,
      "metadata": {
        "colab": {
          "base_uri": "https://localhost:8080/"
        },
        "id": "6xi7uTkdiW7T",
        "outputId": "8246c351-75b6-450a-a982-68be4646ac15"
      },
      "outputs": [
        {
          "output_type": "stream",
          "name": "stdout",
          "text": [
            "Requirement already satisfied: pandas in /usr/local/lib/python3.10/dist-packages (2.0.3)\n",
            "Collecting tflite_runtime\n",
            "  Downloading tflite_runtime-2.14.0-cp310-cp310-manylinux2014_x86_64.whl (2.4 MB)\n",
            "\u001b[2K     \u001b[90m━━━━━━━━━━━━━━━━━━━━━━━━━━━━━━━━━━━━━━━━\u001b[0m \u001b[32m2.4/2.4 MB\u001b[0m \u001b[31m38.4 MB/s\u001b[0m eta \u001b[36m0:00:00\u001b[0m\n",
            "\u001b[?25hRequirement already satisfied: python-dateutil>=2.8.2 in /usr/local/lib/python3.10/dist-packages (from pandas) (2.8.2)\n",
            "Requirement already satisfied: pytz>=2020.1 in /usr/local/lib/python3.10/dist-packages (from pandas) (2023.4)\n",
            "Requirement already satisfied: tzdata>=2022.1 in /usr/local/lib/python3.10/dist-packages (from pandas) (2024.1)\n",
            "Requirement already satisfied: numpy>=1.21.0 in /usr/local/lib/python3.10/dist-packages (from pandas) (1.25.2)\n",
            "Requirement already satisfied: six>=1.5 in /usr/local/lib/python3.10/dist-packages (from python-dateutil>=2.8.2->pandas) (1.16.0)\n",
            "Installing collected packages: tflite_runtime\n",
            "Successfully installed tflite_runtime-2.14.0\n"
          ]
        }
      ],
      "source": [
        "!pip install pandas tflite_runtime"
      ]
    },
    {
      "cell_type": "code",
      "execution_count": 22,
      "metadata": {
        "colab": {
          "base_uri": "https://localhost:8080/"
        },
        "id": "f4tZbCkzhxLc",
        "outputId": "2ada69b2-6e4a-470f-9913-b15a40831969"
      },
      "outputs": [
        {
          "output_type": "stream",
          "name": "stdout",
          "text": [
            "no kick\n",
            "no kick\n",
            "no kick\n",
            "low roundhouse kick\n",
            "no kick\n",
            "front kick\n",
            "no kick\n",
            "front kick\n",
            "no kick\n",
            "mid roundhouse kick\n",
            "low roundhouse kick\n",
            "no kick\n",
            "mid roundhouse kick\n",
            "no kick\n",
            "mid roundhouse kick\n",
            "no kick\n",
            "mid roundhouse kick\n",
            "no kick\n",
            "front kick\n",
            "no kick\n",
            "low roundhouse kick\n",
            "no kick\n",
            "no kick\n",
            "no kick\n",
            "front kick\n",
            "no kick\n",
            "no kick\n",
            "no kick\n"
          ]
        }
      ],
      "source": [
        "import tflite_runtime.interpreter as tflite\n",
        "def z_normalisation(column):\n",
        "  return (column - column.mean()) / column.std()\n",
        "i=0\n",
        "j=0\n",
        "preds = []\n",
        "while True:\n",
        "  subset_df = df_kicks_test.iloc[i:i+300]\n",
        "  if len(subset_df) < 300:\n",
        "    break\n",
        "  X = subset_df.iloc[:, 1:-1]\n",
        "  X = X.apply(z_normalisation)\n",
        "  X = X.to_numpy(dtype=np.float32)\n",
        "  X = X[np.newaxis, :, :]\n",
        "  TFLITE_FILE_PATH = '/content/drive/MyDrive/saved_model/model.tflite'\n",
        "\n",
        "  interpreter = tflite.Interpreter(TFLITE_FILE_PATH)\n",
        "  interpreter.allocate_tensors()\n",
        "\n",
        "  # Get input and output tensors.\n",
        "  input_details = interpreter.get_input_details()\n",
        "  output_details = interpreter.get_output_details()\n",
        "\n",
        "  # Test the model on random input data.\n",
        "  input_shape = input_details[0]['shape']\n",
        "  input_data = X\n",
        "  interpreter.set_tensor(input_details[0]['index'], input_data)\n",
        "  interpreter.invoke()\n",
        "  output_data = interpreter.get_tensor(output_details[0]['index'])\n",
        "  # print(output_data)\n",
        "  label = np.argmax(output_data)\n",
        "  preds.append(label)\n",
        "\n",
        "  i += 1\n",
        "  j += 1\n",
        "  if j == 300:\n",
        "    avg = np.bincount(preds).argmax()\n",
        "    j = 0\n",
        "    preds = []\n",
        "    label_mapping = {0: \"no kick\", 1: \"front kick\", 2: \"low roundhouse kick\", 3: \"mid roundhouse kick\"}\n",
        "    print(label_mapping[avg])\n",
        "\n",
        "  # print(i)\n",
        "  if i == 8991:\n",
        "    break\n"
      ]
    },
    {
      "cell_type": "markdown",
      "metadata": {
        "id": "juIjzRttqQRC"
      },
      "source": [
        "Removing the time column and separating features and labels"
      ]
    },
    {
      "cell_type": "code",
      "source": [
        "zero_indices = all_kicks.index[all_kicks['movement'] == 0].tolist()\n",
        "\n",
        "num_rows_to_keep = 10000\n",
        "selected_zero_indices = np.random.choice(zero_indices, size=num_rows_to_keep, replace=False)\n",
        "\n",
        "# Step 3: Remove rows corresponding to the selected indices\n",
        "df_filtered = all_kicks.drop(selected_zero_indices)"
      ],
      "metadata": {
        "id": "HwFk1OeZf6HW"
      },
      "execution_count": 7,
      "outputs": []
    },
    {
      "cell_type": "code",
      "execution_count": 8,
      "metadata": {
        "id": "nMyLrg5RNMEk"
      },
      "outputs": [],
      "source": [
        "X = df_filtered.iloc[:, 1:-1]\n",
        "y = df_filtered.iloc[:, -1]"
      ]
    },
    {
      "cell_type": "code",
      "execution_count": null,
      "metadata": {
        "id": "Xe010g6y9Jlq"
      },
      "outputs": [],
      "source": [
        "testing_x = df_kicks_test.iloc[:, 1:-1]\n",
        "testing_y = df_kicks_test.iloc[:, -1]"
      ]
    },
    {
      "cell_type": "code",
      "execution_count": 9,
      "metadata": {
        "colab": {
          "base_uri": "https://localhost:8080/"
        },
        "id": "15wnehFfl-B6",
        "outputId": "08b91893-7255-4e63-8aee-5db4c4d05838"
      },
      "outputs": [
        {
          "output_type": "stream",
          "name": "stdout",
          "text": [
            "Average length of segments with the same label (excluding label 0):\n",
            "290.05555555555554\n",
            "16599\n"
          ]
        }
      ],
      "source": [
        "\n",
        "filtered_data = y[y != 0]\n",
        "\n",
        "# Find segments with the same label\n",
        "segments = (filtered_data != filtered_data.shift()).cumsum()\n",
        "\n",
        "# Calculate the length of each segment\n",
        "segment_lengths = filtered_data.groupby(segments).size()\n",
        "\n",
        "# Compute the average length of segments with the same label\n",
        "average_length = segment_lengths.mean()\n",
        "\n",
        "print(\"Average length of segments with the same label (excluding label 0):\")\n",
        "print(average_length)\n",
        "print(len(y))"
      ]
    },
    {
      "cell_type": "code",
      "execution_count": 10,
      "metadata": {
        "id": "twJorjSTjUtz"
      },
      "outputs": [],
      "source": [
        "def z_normalisation(column):\n",
        "  return (column - column.mean()) / column.std()"
      ]
    },
    {
      "cell_type": "code",
      "execution_count": 11,
      "metadata": {
        "id": "9JVAcvmYNUpJ"
      },
      "outputs": [],
      "source": [
        "X = X.apply(z_normalisation)"
      ]
    },
    {
      "cell_type": "code",
      "execution_count": 12,
      "metadata": {
        "id": "4M30_pmAMiXE"
      },
      "outputs": [],
      "source": [
        "def roll_data(x, y, window_len, step=1):\n",
        "    out_len = x.shape[0] - (window_len - 1)\n",
        "    retval = np.zeros((out_len, window_len, x.shape[1]))\n",
        "    for c in range(window_len):\n",
        "        retval[:out_len, c, :] = x[c : c + out_len, :]\n",
        "    return retval, y[window_len - 1 :]"
      ]
    },
    {
      "cell_type": "code",
      "execution_count": 13,
      "metadata": {
        "id": "wnQcvf4IMjdu"
      },
      "outputs": [],
      "source": [
        "retval, y = roll_data(X.to_numpy(),y.to_numpy(),300)"
      ]
    },
    {
      "cell_type": "code",
      "execution_count": null,
      "metadata": {
        "colab": {
          "base_uri": "https://localhost:8080/"
        },
        "id": "f2blHV2hOqpY",
        "outputId": "662e1e4c-40f0-4d28-ccba-889174618061"
      },
      "outputs": [
        {
          "output_type": "execute_result",
          "data": {
            "text/plain": [
              "(array([0, 1, 2, 3]), array([6050, 3290, 3480, 3480]))"
            ]
          },
          "metadata": {},
          "execution_count": 13
        }
      ],
      "source": [
        "np.unique(y, return_counts=True)"
      ]
    },
    {
      "cell_type": "code",
      "execution_count": null,
      "metadata": {
        "colab": {
          "base_uri": "https://localhost:8080/"
        },
        "id": "FkHPAiEWO7L3",
        "outputId": "85601eaa-7353-4e97-87d9-4f280513c8b6"
      },
      "outputs": [
        {
          "data": {
            "text/plain": [
              "(26170,)"
            ]
          },
          "execution_count": 10,
          "metadata": {},
          "output_type": "execute_result"
        }
      ],
      "source": [
        "y.shape"
      ]
    },
    {
      "cell_type": "code",
      "execution_count": null,
      "metadata": {
        "colab": {
          "base_uri": "https://localhost:8080/"
        },
        "id": "J2ZZ40LmO2wA",
        "outputId": "ce0ffaba-4c3c-4b90-eed0-ccc7225c7b43"
      },
      "outputs": [
        {
          "data": {
            "text/plain": [
              "(26170, 430, 8)"
            ]
          },
          "execution_count": 11,
          "metadata": {},
          "output_type": "execute_result"
        }
      ],
      "source": [
        "retval.shape"
      ]
    },
    {
      "cell_type": "code",
      "execution_count": 14,
      "metadata": {
        "colab": {
          "base_uri": "https://localhost:8080/"
        },
        "id": "R8VpR6znWVuO",
        "outputId": "7d09b27d-3c1e-49a9-f641-051f0a34d60a"
      },
      "outputs": [
        {
          "output_type": "stream",
          "name": "stdout",
          "text": [
            "X_train shape: (11410, 300, 8)\n",
            "X_test shape: (4890, 300, 8)\n",
            "y_train shape: (11410,)\n",
            "y_test shape: (4890,)\n"
          ]
        }
      ],
      "source": [
        "# from sklearn.model_selection import train_test_split\n",
        "import tensorflow as tf\n",
        "# Split the features and output into training and testing sets\n",
        "# X_train, X_test, y_train, y_test = train_test_split(retval, y, test_size=0.2, random_state=42)\n",
        "train_size = int(0.7 * len(retval))\n",
        "X_train, X_test = retval[:train_size], retval[train_size:]\n",
        "y_train, y_test = y[:train_size], y[train_size:]\n",
        "# Verify the shapes of the training and testing sets\n",
        "print(\"X_train shape:\", X_train.shape)\n",
        "print(\"X_test shape:\", X_test.shape)\n",
        "print(\"y_train shape:\", y_train.shape)\n",
        "print(\"y_test shape:\", y_test.shape)"
      ]
    },
    {
      "cell_type": "code",
      "source": [
        "np.unique(y_train,return_counts=True)\n",
        "np.unique(y_test, return_counts=True)"
      ],
      "metadata": {
        "colab": {
          "base_uri": "https://localhost:8080/"
        },
        "id": "wUIDEGGaivGq",
        "outputId": "590b03cb-0e3f-4d54-c9f0-382b4448d38d"
      },
      "execution_count": null,
      "outputs": [
        {
          "output_type": "execute_result",
          "data": {
            "text/plain": [
              "(array([0, 1, 2, 3]), array([1871, 1161,  929,  929]))"
            ]
          },
          "metadata": {},
          "execution_count": 21
        }
      ]
    },
    {
      "cell_type": "code",
      "execution_count": null,
      "metadata": {
        "colab": {
          "base_uri": "https://localhost:8080/"
        },
        "id": "1PXJnWbSlBd9",
        "outputId": "9303bcdd-7b60-4191-e8d3-ba293ca32730"
      },
      "outputs": [
        {
          "output_type": "stream",
          "name": "stdout",
          "text": [
            "Num GPUs Available:  1\n"
          ]
        }
      ],
      "source": [
        "print(\"Num GPUs Available: \", len(tf.config.list_physical_devices('GPU')))"
      ]
    },
    {
      "cell_type": "markdown",
      "metadata": {
        "id": "F66-hP59pQ5Q"
      },
      "source": [
        "# Test with basic model"
      ]
    },
    {
      "cell_type": "code",
      "execution_count": 16,
      "metadata": {
        "colab": {
          "base_uri": "https://localhost:8080/"
        },
        "id": "8IE9Tw5XpUTJ",
        "outputId": "bf91f614-09b4-4533-f631-4864d54c4a49"
      },
      "outputs": [
        {
          "output_type": "stream",
          "name": "stdout",
          "text": [
            "Epoch 1/2\n",
            "714/714 [==============================] - 6s 6ms/step - loss: 0.8005 - accuracy: 0.6872 - val_loss: 1.4848 - val_accuracy: 0.5789\n",
            "Epoch 2/2\n",
            "714/714 [==============================] - 4s 6ms/step - loss: 0.3090 - accuracy: 0.8889 - val_loss: 1.9983 - val_accuracy: 0.5804\n",
            "153/153 [==============================] - 0s 2ms/step - loss: 1.9983 - accuracy: 0.5804\n",
            "Test Loss: 1.9982740879058838\n",
            "Test Accuracy: 0.5803681015968323\n",
            "Loading saved model from support_model and creating converter\n"
          ]
        }
      ],
      "source": [
        "import keras\n",
        "import os\n",
        "model = Sequential([\n",
        "      Input(shape=(300, 8)),\n",
        "      Flatten(),\n",
        "      Dense(64, activation='relu'),\n",
        "      Dense(4, activation='softmax')\n",
        "  ])\n",
        "model.compile(loss='sparse_categorical_crossentropy', optimizer='adam', metrics=['accuracy'])\n",
        "\n",
        "history = model.fit(X_train, y_train,\n",
        "                    epochs=2,\n",
        "                    batch_size=16,\n",
        "                    validation_data=(X_test, y_test))\n",
        "\n",
        "\n",
        "test_loss, test_accuracy = model.evaluate(X_test, y_test)\n",
        "\n",
        "print(\"Test Loss:\", test_loss)\n",
        "print(\"Test Accuracy:\", test_accuracy)\n",
        "# keras.utils.plot_model(model, show_shapes=True)\n",
        "\n",
        "save_path = \"support_model\"\n",
        "if not os.path.exists(save_path):\n",
        "    os.mkdir(save_path)\n",
        "\n",
        "tf.saved_model.save(model,save_path)\n",
        "\n",
        "print(f\"Loading saved model from {save_path} and creating converter\")"
      ]
    },
    {
      "cell_type": "code",
      "execution_count": 17,
      "metadata": {
        "id": "o51z90GMcAR1",
        "colab": {
          "base_uri": "https://localhost:8080/"
        },
        "outputId": "eb89b399-bbb3-47b6-b877-06c32de56473"
      },
      "outputs": [
        {
          "output_type": "stream",
          "name": "stdout",
          "text": [
            "Calling converter.convert()\n",
            "Writing output\n"
          ]
        }
      ],
      "source": [
        "save_path = '/content/support_model'\n",
        "converter = tf.lite.TFLiteConverter.from_saved_model(save_path)\n",
        "\n",
        "#converter = tf.lite.TFLiteConverter.from_keras_model(model)\n",
        "\n",
        "\n",
        "print(\"Calling converter.convert()\")\n",
        "tflite_model = converter.convert()\n",
        "print(\"Writing output\")\n",
        "with open(os.path.join(\"/content/support_model\", 'model.tflite'), 'wb') as f:\n",
        "    f.write(tflite_model)"
      ]
    },
    {
      "cell_type": "code",
      "source": [
        "import tensorflow as tf\n",
        "print(tf.__version__)"
      ],
      "metadata": {
        "colab": {
          "base_uri": "https://localhost:8080/"
        },
        "id": "IvXFYM_9H2hi",
        "outputId": "237a9edc-591f-49ef-a757-4dc4df373ded"
      },
      "execution_count": null,
      "outputs": [
        {
          "output_type": "stream",
          "name": "stdout",
          "text": [
            "2.16.1\n"
          ]
        }
      ]
    },
    {
      "cell_type": "code",
      "source": [
        "import matplotlib.pyplot as plt\n",
        "import numpy as np\n",
        "import pandas as pd\n",
        "import seaborn as sns\n",
        "# import tensorflow as tf\n",
        "from tensorflow.keras.models import Sequential\n",
        "from tensorflow.keras.layers import Dense, Flatten, Input\n",
        "from tensorflow.keras.callbacks import LearningRateScheduler\n",
        "from scikeras.wrappers import KerasClassifier\n",
        "from sklearn.model_selection import GridSearchCV\n",
        "from tensorflow.keras.optimizers import Adam\n",
        "from tensorflow.keras.constraints import MaxNorm\n",
        "from tensorflow.keras.layers import Dropout\n",
        "from keras import regularizers"
      ],
      "metadata": {
        "id": "OvxVZSJXGrMB"
      },
      "execution_count": null,
      "outputs": []
    },
    {
      "cell_type": "markdown",
      "metadata": {
        "id": "FR0x2acqDO-3"
      },
      "source": [
        "# Final Model"
      ]
    },
    {
      "cell_type": "code",
      "execution_count": 18,
      "metadata": {
        "colab": {
          "base_uri": "https://localhost:8080/"
        },
        "id": "zHMSh_sSbTJu",
        "outputId": "8c887427-e740-410d-bed3-a89a1df0f347"
      },
      "outputs": [
        {
          "output_type": "stream",
          "name": "stdout",
          "text": [
            "Epoch 1/20\n",
            "1141/1141 [==============================] - 10s 5ms/step - loss: 2.2930 - accuracy: 0.5741 - val_loss: 2.3471 - val_accuracy: 0.4825 - lr: 1.0000e-04\n",
            "Epoch 2/20\n",
            "1141/1141 [==============================] - 4s 4ms/step - loss: 1.6770 - accuracy: 0.7438 - val_loss: 2.1585 - val_accuracy: 0.4969 - lr: 1.0000e-04\n",
            "Epoch 3/20\n",
            "1141/1141 [==============================] - 4s 4ms/step - loss: 1.3623 - accuracy: 0.8231 - val_loss: 2.1809 - val_accuracy: 0.4851 - lr: 1.0000e-04\n",
            "Epoch 4/20\n",
            "1141/1141 [==============================] - 5s 5ms/step - loss: 1.1250 - accuracy: 0.8781 - val_loss: 2.0487 - val_accuracy: 0.4768 - lr: 1.0000e-04\n",
            "Epoch 5/20\n",
            "1141/1141 [==============================] - 4s 3ms/step - loss: 0.9450 - accuracy: 0.9167 - val_loss: 2.0131 - val_accuracy: 0.4877 - lr: 1.0000e-04\n",
            "Epoch 6/20\n",
            "1141/1141 [==============================] - 4s 4ms/step - loss: 0.7975 - accuracy: 0.9452 - val_loss: 1.9669 - val_accuracy: 0.5061 - lr: 1.0000e-04\n",
            "Epoch 7/20\n",
            "1141/1141 [==============================] - 6s 5ms/step - loss: 0.6955 - accuracy: 0.9559 - val_loss: 1.9242 - val_accuracy: 0.5039 - lr: 1.0000e-04\n",
            "Epoch 8/20\n",
            "1141/1141 [==============================] - 4s 3ms/step - loss: 0.6136 - accuracy: 0.9678 - val_loss: 1.9237 - val_accuracy: 0.5048 - lr: 1.0000e-04\n",
            "Epoch 9/20\n",
            "1141/1141 [==============================] - 4s 4ms/step - loss: 0.5551 - accuracy: 0.9714 - val_loss: 1.9442 - val_accuracy: 0.5009 - lr: 1.0000e-04\n",
            "Epoch 10/20\n",
            "1141/1141 [==============================] - 5s 4ms/step - loss: 0.5064 - accuracy: 0.9779 - val_loss: 1.9066 - val_accuracy: 0.5096 - lr: 1.0000e-04\n",
            "Epoch 11/20\n",
            "1141/1141 [==============================] - 4s 4ms/step - loss: 0.4620 - accuracy: 0.9897 - val_loss: 1.9036 - val_accuracy: 0.5061 - lr: 1.0000e-05\n",
            "Epoch 12/20\n",
            "1141/1141 [==============================] - 5s 4ms/step - loss: 0.4474 - accuracy: 0.9946 - val_loss: 1.8979 - val_accuracy: 0.5074 - lr: 1.0000e-05\n",
            "Epoch 13/20\n",
            "1141/1141 [==============================] - 5s 4ms/step - loss: 0.4398 - accuracy: 0.9941 - val_loss: 1.9051 - val_accuracy: 0.5009 - lr: 1.0000e-05\n",
            "Epoch 14/20\n",
            "1141/1141 [==============================] - 5s 4ms/step - loss: 0.4347 - accuracy: 0.9952 - val_loss: 1.8851 - val_accuracy: 0.5057 - lr: 1.0000e-05\n",
            "Epoch 15/20\n",
            "1141/1141 [==============================] - 4s 4ms/step - loss: 0.4308 - accuracy: 0.9956 - val_loss: 1.8807 - val_accuracy: 0.5048 - lr: 1.0000e-05\n",
            "Epoch 16/20\n",
            "1141/1141 [==============================] - 5s 4ms/step - loss: 0.4272 - accuracy: 0.9955 - val_loss: 1.8677 - val_accuracy: 0.5074 - lr: 1.0000e-05\n",
            "Epoch 17/20\n",
            "1141/1141 [==============================] - 5s 4ms/step - loss: 0.4197 - accuracy: 0.9975 - val_loss: 1.8823 - val_accuracy: 0.4974 - lr: 1.0000e-05\n",
            "Epoch 18/20\n",
            "1141/1141 [==============================] - 4s 4ms/step - loss: 0.4151 - accuracy: 0.9964 - val_loss: 1.8786 - val_accuracy: 0.5096 - lr: 1.0000e-05\n",
            "Epoch 19/20\n",
            "1141/1141 [==============================] - 4s 4ms/step - loss: 0.4134 - accuracy: 0.9969 - val_loss: 1.8827 - val_accuracy: 0.5013 - lr: 1.0000e-05\n",
            "Epoch 20/20\n",
            "1141/1141 [==============================] - 5s 5ms/step - loss: 0.4072 - accuracy: 0.9967 - val_loss: 1.8726 - val_accuracy: 0.5022 - lr: 1.0000e-05\n",
            "153/153 [==============================] - 0s 2ms/step - loss: 1.6244 - accuracy: 0.6225\n",
            "Test Loss: 1.6243785619735718\n",
            "Test Accuracy: 0.6224948763847351\n",
            "Loading saved model from support_model and creating converter\n"
          ]
        }
      ],
      "source": [
        "import keras\n",
        "\n",
        "def lr_schedule(epoch):\n",
        "    initial_lr = 0.0001\n",
        "    decay_factor = 0.1\n",
        "\n",
        "    if epoch < 10:\n",
        "        return initial_lr\n",
        "    else:\n",
        "        return initial_lr * (decay_factor ** (epoch // 10))\n",
        "\n",
        "lr_scheduler = LearningRateScheduler(lr_schedule)\n",
        "\n",
        "model = Sequential([\n",
        "    Input(shape=(300, 8), name=\"input_layer\"),\n",
        "    Flatten(name=\"flatten_layer\"),\n",
        "    Dense(64, activation='relu', kernel_initializer='glorot_uniform', kernel_constraint=MaxNorm(4.0), kernel_regularizer=regularizers.l2(0.01), name=\"dense_layer\"),#\n",
        "    Dropout(0.1, name=\"dropout_layer\"),\n",
        "    Dense(4, activation='softmax', kernel_initializer='glorot_uniform',kernel_regularizer=regularizers.l2(0.01),  name=\"output_layer\")#\n",
        "])\n",
        "# optimizer = tf.keras.optimizers.RMSprop(learning_rate=0.001, momentum=0.2)\n",
        "# optimizer = tf.keras.optimizers.Adam(learning_rate=0.001)\n",
        "optimizer = tf.keras.optimizers.Nadam(learning_rate=0.0001)\n",
        "model.compile(loss='sparse_categorical_crossentropy', optimizer=optimizer, metrics=['accuracy'])\n",
        "\n",
        "seed = 7\n",
        "tf.random.set_seed(seed)\n",
        "\n",
        "history = model.fit(\n",
        "    X_train,\n",
        "    y_train,\n",
        "    batch_size=8,\n",
        "    epochs=20,\n",
        "    validation_split=0.2,\n",
        "    verbose=1,\n",
        "    callbacks=[lr_scheduler]\n",
        ")\n",
        "\n",
        "# history = model.fit(X_train, y_train,\n",
        "#                     epochs=20,\n",
        "#                     batch_size=25,\n",
        "#                     validation_data=(X_test, y_test))#,callbacks=[lr_scheduler]\n",
        "\n",
        "test_loss, test_accuracy = model.evaluate(X_test, y_test)\n",
        "\n",
        "print(\"Test Loss:\", test_loss)\n",
        "print(\"Test Accuracy:\", test_accuracy)\n",
        "\n",
        "save_path = \"support_model\"\n",
        "if not os.path.exists(save_path):\n",
        "    os.mkdir(save_path)\n",
        "\n",
        "tf.saved_model.save(model,save_path)\n",
        "\n",
        "print(f\"Loading saved model from {save_path} and creating converter\")"
      ]
    },
    {
      "cell_type": "code",
      "execution_count": 19,
      "metadata": {
        "id": "BQFPcIGxehj7",
        "colab": {
          "base_uri": "https://localhost:8080/"
        },
        "outputId": "638fb5bc-9208-4f66-e960-d7c7d5d30ae6"
      },
      "outputs": [
        {
          "output_type": "stream",
          "name": "stdout",
          "text": [
            "Calling converter.convert()\n",
            "Writing output\n"
          ]
        }
      ],
      "source": [
        "import tensorflow as tf\n",
        "save_path = '/content/support_model'\n",
        "converter = tf.lite.TFLiteConverter.from_saved_model(save_path)\n",
        "\n",
        "#converter = tf.lite.TFLiteConverter.from_keras_model(model)\n",
        "\n",
        "\n",
        "print(\"Calling converter.convert()\")\n",
        "tflite_model = converter.convert()\n",
        "print(\"Writing output\")\n",
        "with open(os.path.join(\"/content/drive/MyDrive/saved_model\", 'model.tflite'), 'wb') as f:\n",
        "    f.write(tflite_model)"
      ]
    },
    {
      "cell_type": "code",
      "execution_count": 23,
      "metadata": {
        "colab": {
          "base_uri": "https://localhost:8080/",
          "height": 658
        },
        "id": "SQCVBtcVDTFc",
        "outputId": "408b9f6e-1e43-4f05-b90c-5bd5e288b091"
      },
      "outputs": [
        {
          "output_type": "stream",
          "name": "stdout",
          "text": [
            "153/153 [==============================] - 1s 2ms/step\n"
          ]
        },
        {
          "output_type": "display_data",
          "data": {
            "text/plain": [
              "<Figure size 1000x700 with 2 Axes>"
            ],
            "image/png": "[encoded data removed]"
          },
          "metadata": {}
        }
      ],
      "source": [
        "from sklearn.metrics import confusion_matrix\n",
        "\n",
        "y_pred_prob = model.predict(X_test)\n",
        "y_pred = np.argmax(y_pred_prob, axis=1)\n",
        "\n",
        "cm = confusion_matrix(y_test, y_pred)\n",
        "label_mapping = {0: \"no kick\", 1: \"front kick\", 2: \"low roundhouse kick\", 3: \"mid roundhouse kick\"}\n",
        "label_mapping_str = {idx: label_mapping[label] for idx, label in enumerate(range(len(cm)))}\n",
        "\n",
        "\n",
        "cm_df = pd.DataFrame(cm, index=label_mapping.values(), columns=label_mapping.values())\n",
        "\n",
        "plt.figure(figsize=(10, 7))\n",
        "sns.heatmap(cm_df, annot=True, cmap='Blues', fmt='g')\n",
        "plt.xlabel('Predicted labels')\n",
        "plt.ylabel('True labels')\n",
        "plt.title('Confusion Matrix')\n",
        "plt.show()\n"
      ]
    },
    {
      "cell_type": "code",
      "source": [
        "from sklearn.metrics import classification_report\n",
        "\n",
        "\n",
        "y_pred = np.argmax(model.predict(X_test), axis=1)\n",
        "\n",
        "class_names = [\"no kick\", \"front kick\", \"low roundhouse kick\", \"mid roundhouse kick\"]\n",
        "report = classification_report(y_test, y_pred, target_names=class_names, output_dict=True)\n",
        "\n",
        "print(\"Classification Report:\")\n",
        "print(report)"
      ],
      "metadata": {
        "colab": {
          "base_uri": "https://localhost:8080/"
        },
        "id": "gunLeNAFBMZv",
        "outputId": "96e559de-c65d-47d7-f108-cf0dcba2e8aa"
      },
      "execution_count": 24,
      "outputs": [
        {
          "output_type": "stream",
          "name": "stdout",
          "text": [
            "153/153 [==============================] - 1s 5ms/step\n",
            "Classification Report:\n",
            "{'no kick': {'precision': 0.7219512195121951, 'recall': 0.7910208444681989, 'f1-score': 0.7549094618719714, 'support': 1871}, 'front kick': {'precision': 0.8585365853658536, 'recall': 0.6063738156761412, 'f1-score': 0.7107521453811206, 'support': 1161}, 'low roundhouse kick': {'precision': 0.40658114891243724, 'recall': 0.7847147470398278, 'f1-score': 0.5356355620867009, 'support': 929}, 'mid roundhouse kick': {'precision': 0.5770925110132159, 'recall': 0.14101184068891282, 'f1-score': 0.22664359861591699, 'support': 929}, 'accuracy': 0.6224948875255624, 'macro avg': {'precision': 0.6410403662009254, 'recall': 0.5807803119682702, 'f1-score': 0.5569851919889275, 'support': 4890}, 'weighted avg': {'precision': 0.6669457131672811, 'recall': 0.6224948875255624, 'f1-score': 0.6024082176365382, 'support': 4890}}\n"
          ]
        }
      ]
    },
    {
      "cell_type": "code",
      "source": [
        "f1_scores = [report[str(class_name)]['f1-score'] for class_name in class_names]\n",
        "\n",
        "f1_scores_array = np.array(f1_scores)\n",
        "\n",
        "plt.figure(figsize=(10, 5))\n",
        "plt.bar(range(len(f1_scores_array)), f1_scores_array, color='red')\n",
        "plt.xlabel('Class')\n",
        "plt.ylabel('F1 Score')\n",
        "plt.title('F1 Score for each class')\n",
        "plt.xticks(range(len(f1_scores_array)), label_mapping.values())\n",
        "plt.grid(axis='y')\n",
        "plt.show()"
      ],
      "metadata": {
        "colab": {
          "base_uri": "https://localhost:8080/",
          "height": 487
        },
        "id": "N7xAGjDdBwCR",
        "outputId": "4dbb35f1-740a-4b41-85a3-d095e6a9892c"
      },
      "execution_count": 25,
      "outputs": [
        {
          "output_type": "display_data",
          "data": {
            "text/plain": [
              "<Figure size 1000x500 with 1 Axes>"
            ],
            "image/png": "[encoded data removed]"
          },
          "metadata": {}
        }
      ]
    },
    {
      "cell_type": "code",
      "source": [
        "model = Sequential([\n",
        "  Input(shape=(300, 8), name=\"input_layer\"),\n",
        "  Flatten(name=\"flatten_layer\"),\n",
        "  Dense(64, activation='relu', kernel_initializer='glorot_uniform', kernel_constraint=MaxNorm(4.0), kernel_regularizer=regularizers.l2(0.01), name=\"dense_layer\"),\n",
        "  Dropout(0.1, name=\"dropout_layer\"),\n",
        "  Dense(4, activation='softmax', kernel_initializer='glorot_uniform',kernel_regularizer=regularizers.l2(0.01),  name=\"output_layer\"),\n",
        "  ])\n",
        "\n",
        "optimizer = tf.keras.optimizers.Nadam(learning_rate=0.0001)\n",
        "model.compile(loss='sparse_categorical_crossentropy', optimizer=optimizer, metrics=['accuracy'])\n",
        "keras.utils.plot_model(model, show_shapes=True)\n",
        "model.summary()"
      ],
      "metadata": {
        "colab": {
          "base_uri": "https://localhost:8080/"
        },
        "id": "F7CRYnfiPrDy",
        "outputId": "caecad31-5c15-41b4-ec92-59a0f70d9c40"
      },
      "execution_count": 39,
      "outputs": [
        {
          "output_type": "stream",
          "name": "stdout",
          "text": [
            "Model: \"sequential_12\"\n",
            "_________________________________________________________________\n",
            " Layer (type)                Output Shape              Param #   \n",
            "=================================================================\n",
            " flatten_layer (Flatten)     (None, 2400)              0         \n",
            "                                                                 \n",
            " dense_layer (Dense)         (None, 64)                153664    \n",
            "                                                                 \n",
            " dropout_layer (Dropout)     (None, 64)                0         \n",
            "                                                                 \n",
            " output_layer (Dense)        (None, 4)                 260       \n",
            "                                                                 \n",
            "=================================================================\n",
            "Total params: 153924 (601.27 KB)\n",
            "Trainable params: 153924 (601.27 KB)\n",
            "Non-trainable params: 0 (0.00 Byte)\n",
            "_________________________________________________________________\n"
          ]
        }
      ]
    },
    {
      "cell_type": "code",
      "execution_count": 29,
      "metadata": {
        "id": "fBreXGVFbUA2"
      },
      "outputs": [],
      "source": [
        "# keras.utils.plot_model(model, show_shapes=True)"
      ]
    },
    {
      "cell_type": "code",
      "execution_count": null,
      "metadata": {
        "id": "UqSkBpSAWhvm"
      },
      "outputs": [],
      "source": [
        "# import tensorflow as tf\n",
        "# from tensorflow.keras.models import Sequential\n",
        "# from tensorflow.keras.layers import Dense, Flatten\n",
        "# from tensorflow.keras.callbacks import LearningRateScheduler\n",
        "# from tensorflow.keras.wrappers.scikit_learn import KerasClassifier\n",
        "# from sklearn.model_selection import GridSearchCV\n",
        "\n",
        "# def lr_schedule(epoch):\n",
        "#     initial_lr = 0.001\n",
        "#     decay_factor = 0.1\n",
        "\n",
        "#     if epoch < 20:\n",
        "#         return initial_lr\n",
        "#     else:\n",
        "#         return initial_lr * (decay_factor ** (epoch // 10))\n",
        "\n",
        "# lr_scheduler = LearningRateScheduler(lr_schedule)\n",
        "\n",
        "# model = Sequential([\n",
        "#     Flatten(input_shape=(5, 8)),\n",
        "#     Dense(64, activation='relu'),\n",
        "#     Dense(128, activation='relu'),\n",
        "#     Dense(64, activation='relu'),\n",
        "#     Dense(4, activation='softmax')\n",
        "# ])\n",
        "# model.compile(optimizer='adam',\n",
        "#               loss='sparse_categorical_crossentropy',\n",
        "#               metrics=['accuracy'])\n",
        "\n",
        "\n",
        "# history = model.fit(X_train, y_train,\n",
        "#                     epochs=30,\n",
        "#                     batch_size=16,\n",
        "#                     validation_data=(X_test, y_test),\n",
        "#                     callbacks=[lr_scheduler])\n",
        "\n",
        "\n",
        "# test_loss, test_accuracy = model.evaluate(X_test, y_test)\n",
        "\n",
        "# print(\"Test Loss:\", test_loss)\n",
        "# print(\"Test Accuracy:\", test_accuracy)"
      ]
    },
    {
      "cell_type": "code",
      "execution_count": null,
      "metadata": {
        "id": "fWdfpY7zXzWE"
      },
      "outputs": [],
      "source": [
        "# import tensorflow as tf\n",
        "# from tensorflow.keras.models import Sequential\n",
        "# from tensorflow.keras.layers import Dense, Flatten, Input\n",
        "# from tensorflow.keras.callbacks import LearningRateScheduler\n",
        "# from scikeras.wrappers import KerasClassifier\n",
        "# from sklearn.model_selection import GridSearchCV\n",
        "# from tensorflow.keras.optimizers import Adam\n",
        "\n",
        "# def lr_schedule(epoch):\n",
        "#     initial_lr = 0.001\n",
        "#     decay_factor = 0.1\n",
        "\n",
        "#     if epoch < 20:\n",
        "#         return initial_lr\n",
        "#     else:\n",
        "#         return initial_lr * (decay_factor ** (epoch // 10))\n",
        "\n",
        "# lr_scheduler = LearningRateScheduler(lr_schedule)\n",
        "\n"
      ]
    }
  ],
  "metadata": {
    "accelerator": "GPU",
    "colab": {
      "gpuType": "T4",
      "provenance": []
    },
    "kernelspec": {
      "display_name": "Python 3",
      "name": "python3"
    },
    "language_info": {
      "name": "python"
    }
  },
  "nbformat": 4,
  "nbformat_minor": 0
}